{
  "nbformat": 4,
  "nbformat_minor": 0,
  "metadata": {
    "colab": {
      "provenance": []
    },
    "kernelspec": {
      "name": "python3",
      "display_name": "Python 3"
    },
    "language_info": {
      "name": "python"
    }
  },
  "cells": [
    {
      "cell_type": "markdown",
      "source": [
        "Theory"
      ],
      "metadata": {
        "id": "TpuIsJxRxTLr"
      }
    },
    {
      "cell_type": "markdown",
      "source": [
        "Q1. What is NumPy, and why is it widely used in Python?\n",
        "\n",
        "ANS:- NumPy is a powerful, well-optimized, free open-source library for the\n",
        "      Python programming language, adding support for large, multi-dimensional arrays (also called matrices or tensors).\n",
        "       \n",
        "      Why is NumPy used in Python?\n",
        "\n",
        "      NumPy's powerful N-dimensional array object integrates with a wide variety of libraries. NumPy arrays can execute advanced mathematical operations with large data sets more efficiently and with less code than when using Python's built-in lists.\n",
        "      \n",
        "      Speed:\n",
        "      NumPy is faster than regular Python arrays because it uses pre-compiled C code.\n",
        "      Vectorization:\n",
        "      NumPy arrays are vectorized, which means they don't require explicit looping or array indexing.\n",
        "      Mathematical functions:\n",
        "      NumPy includes a collection of high-level mathematical functions, such as linear algebra, random simulation, and statistical operations."
      ],
      "metadata": {
        "id": "LUgF5bwsxYdM"
      }
    },
    {
      "cell_type": "markdown",
      "source": [
        "Q2. How does broadcasting work in NumPy?\n",
        "\n",
        "ANS:- numpy.broadcast. The term broadcasting describes how NumPy treats arrays\n",
        "      with different shapes during arithmetic operations. Subject to certain constraints, the smaller array is “broadcast” across the larger array so that they have compatible shapes.\n",
        "\n",
        "      Broadcasting applies specific rules to determine whether two arrays can  \n",
        "      be aligned for operations:\n",
        "\n",
        "      1. Check Dimensions: Ensure the arrays have the same number of dimensions\n",
        "         or expandable dimensions.\n",
        "      2. Dimension Padding: If arrays have different numbers of dimensions, the\n",
        "         smaller array is left-padded with ones.\n",
        "      3. Shape Compatibility: Two dimensions are compatible if:\n",
        "        1.They are equal, or\n",
        "        2.One of them is 1."
      ],
      "metadata": {
        "id": "Qe_FJvoJzTTi"
      }
    },
    {
      "cell_type": "markdown",
      "source": [
        "Q3. What is a Pandas DataFrame?\n",
        "ANS:- pandas DataFrame is a way to represent and work with tabular data. It can\n",
        "      be seen as a table that organizes data into rows and columns, making it a two-dimensional data structure. A DataFrame can be created from scratch, or you can use other data structures, like NumPy arrays."
      ],
      "metadata": {
        "id": "rAQVcqsN0oHl"
      }
    },
    {
      "cell_type": "markdown",
      "source": [
        "Q4. Explain the use of the groupby() method in Pandas?\n",
        "\n",
        "ANS:- The groupby() function in Pandas involves three main steps: Splitting,\n",
        "      Applying, and Combining.\n",
        "\n",
        "      Splitting: This step involves dividing the DataFrame into groups based on\n",
        "                 some criteria. The groups are defined by unique values in one or more columns.\n",
        "      Applying: In this step, a function is applied to each group  \n",
        "                independently. You can apply various functions to each group, such as:\n",
        "                Aggregation: Calculate summary statistics (e.g., sum, mean, count) for each group.\n",
        "                Transformation: Modify the values within each group.\n",
        "                Filtering: Keep or discard groups based on certain conditions.\n",
        "     Combining: Finally, the results of the applied function are combined into a new DataFrame or Series.\n",
        "\n",
        "     Grouping by multiple columns allows you to break down the data into finer categories and compute statistics for each unique combination of those columns. Let’s use the same NBA dataset and group the data by both Team and positionto calculate the total points scored by each position within each team.\n",
        "\n",
        "  "
      ],
      "metadata": {
        "id": "SqNGtfin1IYo"
      }
    },
    {
      "cell_type": "markdown",
      "source": [
        "Q5. Why is Seaborn preferred for statistical visualizations?\n",
        "\n",
        "ANS:- Ease of use: One of the main advantages of Seaborn over Matplotlib is its\n",
        "                   ease of use. Seaborn is built on top of Matplotlib and provides a higher-level interface for creating statistical graphics. This means that Seaborn requires less code to create complex visualizations compared to Matplotlib.\n",
        "      Built-in Statistical Functionality: Seaborn includes functions\n",
        "                   specifically designed to visualize statistical distributions and relationships between variables, making it ideal for exploring data patterns.\n",
        "     Aesthetic Appeal: Seaborn comes with attractive default themes and color\n",
        "                   palettes, resulting in visually pleasing plots without extensive manual styling.\n",
        "     Pandas Integration: Seaborn is tightly integrated with Pandas DataFrames,\n",
        "                   allowing users to directly visualize data from their datasets with minimal data manipulation."
      ],
      "metadata": {
        "id": "POsmiJBg294o"
      }
    },
    {
      "cell_type": "markdown",
      "source": [
        "Q6. What are the differences between NumPy arrays and Python lists?\n",
        "\n",
        "ANS:- Numpy Array\n",
        "      1. Homogeneous Data: NumPy arrays store elements of the same data type,\n",
        "                           making them more compact and memory-efficient than lists.\n",
        "      2.Fixed Data Type: NumPy arrays have a fixed data type, reducing memory\n",
        "                         overhead by eliminating the need to store type information for each element.\n",
        "      3. Contiguous Memory: NumPy arrays store elements in adjacent memory locations, reducing fragmentation and allowing for efficient access.\n",
        "      4. Array Metadata: NumPy arrays have extra metadata like shape, strides,\n",
        "                         and data type. However, this overhead is usually smaller than the per-element overhead in lists.\n",
        "      5. Performance: NumPy arrays are optimized for numerical computations,\n",
        "                      with efficient element-wise operations and mathematical functions. These operations are implemented in C, resulting in faster performance than equivalent operations on lists.\n",
        "\n",
        "    (Python lists)\n",
        "      1.Element Overhead: Lists in Python store additional information about\n",
        "                          each element, such as its type and reference count. This overhead can be significant when dealing with a large number of elements.\n",
        "      2.Datatype: Lists can hold different data types, but this can decrease\n",
        "                  memory efficiency and slow numerical operations.\n",
        "      3. Memory Fragmentation: Lists may not store elements in contiguous  \n",
        "                               memory locations, causing memory fragmentation and inefficiency.\n",
        "      4. Performance: Lists are not optimized for numerical computations and  \n",
        "                      may have slower mathematical operations due to Python’s interpretation overhead. They are generally used as general-purpose data structures.\n",
        "      5. Functionality: Lists can store any data type, but lack specialized\n",
        "                        NumPy functions for numerical operations.\n",
        "\n"
      ],
      "metadata": {
        "id": "1m7vK77H4F95"
      }
    },
    {
      "cell_type": "markdown",
      "source": [
        "Q7. What is a heatmap, and when should it be used?\n",
        "\n",
        "ANS:- A heatmap is a data visualization tool that uses color gradients to\n",
        "      represent the magnitude of data points across a two-dimensional space, allowing you to quickly identify patterns and areas of high concentration within a dataset, making it ideal for situations where you want to visually see where the most activity or intensity is occurring, like analyzing user interactions on a website or identifying geographical hotspots for a particular phenomenon.\n",
        "\n",
        "      Analyzing user behavior on websites or apps:\n",
        "                                To see where users click, hover, or scroll the most on a webpage, helping to identify areas of high engagement and potential areas for improvement.\n",
        "      Visualizing geographical data:\n",
        "                                To display the density of a phenomenon across a map, like crime rates in different neighborhoods or weather patterns across a region.\n",
        "     Identifying trends in large datasets:\n",
        "                                When you have a large amount of data with multiple variables, a heatmap can quickly reveal patterns and relationships that might be difficult to see in a table.\n",
        "     Comparing different groups or categories:\n",
        "                                By color-coding different groups on a heatmap, you can easily compare their behaviors or characteristics.\n",
        "     Understanding customer interactions:\n",
        "                                To see which products are most frequently purchased together or which features are most used by different customer segments."
      ],
      "metadata": {
        "id": "YsjMmg8eBgc-"
      }
    },
    {
      "cell_type": "markdown",
      "source": [
        "Q8. What does the term “vectorized operation” mean in NumPy?\n",
        "\n",
        "ANS:- Vectorization in NumPy is a method of performing operations on entire m\n",
        "      arrays without explicit loops. This approach leverages NumPy's underlying C implementation for faster and more efficient computations. By replacing iterative processes with vectorized functions, you can significantly optimize perf.\n",
        "      Vectorisation in Python is a programming style where operations on a single piece of data, typically in a loop, are replaced by operations on entire arrays. Vectorisation can improve the performance of a code and can make the code more concise and easier to maintain."
      ],
      "metadata": {
        "id": "2T0fvt5rCg47"
      }
    },
    {
      "cell_type": "markdown",
      "source": [
        "Q9. How does Matplotlib differ from Plotly?\n",
        "\n",
        "ANS:- Matplotlib\n",
        "      1. Static plots: Primarily generates static images.  Good for creating\n",
        "                       publication-quality figures that don't change after creation.\n",
        "      2. Widely used: A foundational plotting library in Python, with a large\n",
        "                      user base and extensive documentation.\n",
        "      3. Greater customization: Offers fine-grained control over plot elements,\n",
        "                                but can be more verbose for complex interactions.\n",
        "      4. Less interactive: Limited interactive features; zooming and panning\n",
        "                           usually require external libraries or callbacks.\n",
        "\n",
        "     Plotly:\n",
        "      1. Interactive plots: Creates interactive plots that can be zoomed,\n",
        "                            panned, and hovered over, enhancing data exploration.\n",
        "      2. Web-based: Plots are often rendered in web browsers, making them\n",
        "                    shareable and easily integrated into web applications or dashboards.\n",
        "      3. Rich visualizations: Supports a wider variety of plot types and more\n",
        "                              advanced interactive features, like animations and 3D plots.\n",
        "      4. Easier for complex interactions: Simplifies creating interactive\n",
        "                       elements without needing extensive coding for callbacks.\n"
      ],
      "metadata": {
        "id": "vzjiqyYfC-v5"
      }
    },
    {
      "cell_type": "markdown",
      "source": [
        "Q10. What is the significance of hierarchical indexing in Pandas?\n",
        "\n",
        "ANS:- Hierarchical indexing in Pandas allows you to work with multi-level  \n",
        "      index, essentially creating a hierarchical or tree-like structure for your data.  This enables you to represent higher-dimensional data within a two-dimensional DataFrame, making it very efficient to analyze and manipulate data with multiple grouping levels.\n",
        "\n",
        "      Significance:\n",
        "     1. Representing Multi-Dimensional Data: You can organize data by       multiple labels (categories). For example, you can have data indexed by both date and city, or by product category and region.\n",
        "\n",
        "      2. Efficient Data Selection: Hierarchical indexing makes it easy to\n",
        "                                   select and filter data based on any combination of the index levels.\n",
        "\n",
        "      3. Data Alignment: When performing operations between DataFrames or  \n",
        "                         Series with hierarchical indexes, Pandas automatically aligns the data based on all levels of the index.  This is crucial for accurate calculations.\n",
        "\n",
        "      4. Groupby Operations: Hierarchical indexes can simplify operations that\n",
        "                             involve grouping the data at different levels.  You can easily aggregate and summarize data based on different combinations of categories.\n",
        "\n",
        "      5. Reshaping Data: You can use hierarchical indexing to rearrange data,\n",
        "                         moving levels of the index to columns or columns to levels of the index using methods like stack and unstack.\n",
        "\n",
        "      6. Pivot Tables: Hierarchical indexing is fundamental to creating pivot\n",
        "                        tables.  Pivot tables, which summarize and rearrange data based on index levels, are commonly created and manipulated using hierarchical indices.\n",
        "\n",
        "    \n"
      ],
      "metadata": {
        "id": "8kWdHHj4KVcb"
      }
    },
    {
      "cell_type": "markdown",
      "source": [
        "Q11. What is the role of Seaborn’s pairplot() function?\n",
        "\n",
        "ANS:- Seaborn's pairplot() function creates a grid of scatterplots, visualizing\n",
        "      the pairwise relationships between all numeric variables in a dataset, effectively allowing you to see the distribution of individual variables and how they relate to each other in a single plot, which is particularly useful for exploratory data analysis (EDA).   \n",
        "      "
      ],
      "metadata": {
        "id": "zpo-Z--jNmBq"
      }
    },
    {
      "cell_type": "markdown",
      "source": [
        "Q12. What is the purpose of the describe() function in Pandas?\n",
        "\n",
        "ANS:-  Pandas, the describe() function is used to generate a summary of\n",
        "       descriptive statistics for a DataFrame, providing a quick overview of the data by calculating key metrics like count, mean, standard deviation, minimum, maximum, and percentiles for each numerical column in the dataset.\n",
        "       The describe() function in Pandas generates descriptive statistics for numerical columns in a DataFrame, providing a quick overview of the data's central tendency, dispersion, and shape.  It calculates metrics like count, mean, standard deviation, min, max, and percentiles."
      ],
      "metadata": {
        "id": "MxVJfgcFOR3P"
      }
    },
    {
      "cell_type": "markdown",
      "source": [
        "Q13. Why is handling missing data important in Pandas?\n",
        "\n",
        "ANS:- 1. Accurate Analysis: Missing data can skew statistical calculations and\n",
        "                            lead to  inaccurate conclusions.  If not addressed, missing values can distort means, standard deviations, and other summary statistics, potentially leading to  misinterpretations of the data.\n",
        "      2. Model Performance: Many machine learning algorithms cannot handmissing\n",
        "                      values.  If your dataset has missing data, you'll need to handle it before training models.  Ignoring missing data or using flawed imputation techniques can significantly reduce the predictive power of your models.\n",
        "\n",
        "      3. Data Integrity: Missing data can indicate issues with data collection\n",
        "                         or recording processes. Understanding why data is missing can help identify potential problems in the data pipeline and improve data quality in future\n",
        "                         collections.\n",
        "\n",
        "      4. Reliable Visualization: Visualizations can be misleading if missing\n",
        "                                 data is not properly handled. Plots and charts can misrepresent trends and patterns  when missing values are not accounted for or filled in appropriately.\n",
        "\n",
        "      5. Consistent Results: Handling missing data consistently across your\n",
        "                             analysis ensures that your results are reproducible.  If you use different methods to  deal with missing values in different parts of your analysis, your overall  results could be inconsistent or unreliable.\n"
      ],
      "metadata": {
        "id": "qBeCePHPO0JU"
      }
    },
    {
      "cell_type": "markdown",
      "source": [
        "Q14.  What are the benefits of using Plotly for data visualization)?\n",
        "\n",
        "ANS:- Benefits of using Plotly for data visualization:\n",
        "\n",
        "     1. Interactive Plots: Plotly's primary strength is its ability to create\n",
        "                           interactive plots. Users can zoom, pan, hover over data points to see details, and generally explore the data in a dynamic way.  This interactivity is crucial for uncovering hidden patterns and insights that static images might miss.\n",
        "\n",
        "    2. Web-Based and Shareable: Plotly plots are rendered in webbrowsers.       \n",
        "                           This makes them easily shareable – you can export them as HTML files, embed them in web applications or dashboards, or share them as interactive links.  The interactive experience is preserved across different platforms.\n",
        "\n",
        "    3. Variety of Plot Types: Plotly offers a wide range of plot types beyond\n",
        "                           the basic ones available in Matplotlib. This includes advanced chart types like 3D plots, geographical maps, network graphs, and more.  The diverse visualization options cater to a wider range of data exploration needs.\n",
        "\n",
        "    4. Highly Customizable: While Plotly simplifies the creation of interactive\n",
        "                          plots, it also provides extensive customization options to tailor plots to specific requirements. You have control over colors, layouts, annotations, and many other visual elements to make your visualizations clear, effective, and aesthetically pleasing.\n",
        "\n",
        "    5. Offline Plotting: Plotly allows you to create and view plots without an\n",
        "                         active internet connection.  This offline capability ensures that you can use Plotly even if you don't have a stable network connection.\n",
        "\n",
        "    6. Integration with other libraries:  Seamlessly integrates with Pandas and\n",
        "                         other data science libraries, making it easy to generate visualizations from DataFrames and other data structures.\n"
      ],
      "metadata": {
        "id": "wG0lNfjDP_8l"
      }
    },
    {
      "cell_type": "markdown",
      "source": [
        "Q15. How does NumPy handle multidimensional arrays?\n",
        "\n",
        "ANS:- NumPy handles multidimensional arrays (ndarrays) efficiently through\n",
        "     several key mechanisms:\n",
        "\n",
        "    1. Data Storage: NumPy arrays store elements of the same data type in\n",
        "                     contiguous memory blocks.  This contiguous storage is crucial for performance. It utilizes a fixed-size data type, reducing the memory overhead per element compared to Python lists that can contain elements of differing types.\n",
        "\n",
        "    2. Shape and Dimensions: The `shape` attribute of an ndarray is a tuple\n",
        "                             defining the dimensions of the array (e.g., (3, 4) for a 3x4 matrix).The`ndim` attribute indicates the number of dimensions. NumPy can handle arrays of any number of dimensions, from 1D vectors to higher-dimensional tensors.\n",
        "\n",
        "    3. Indexing and Slicing: Powerful indexing allows accessing individual\n",
        "                             elements or subarrays. Multidimensional indexing employs multiple indices separated by commas (e.g., `array[1, 2]` for the element at row 1, column 2).Slicing can extract portions of an array using slice objects (`start:stop:step`).\n",
        "\n",
        "    4. Vectorized Operations: Vectorized operations perform operations on  \n",
        "                              entire arrays at once without explicit loops. NumPy's C implementation makes these significantly faster than equivalent Python loops. Broadcasting, which expands smaller arrays to match larger ones for element-wise operations, is a key part of this.\n",
        "\n",
        "   5. Memory Efficiency: The contiguous storage and fixed data type of NumPy\n",
        "                         arrays significantly reduce memory consumption compared to Python lists.\n",
        "   6. Efficient Mathematical Operations:Optimized functions from linear  \n",
        "                                        algebra, Fourier transforms, random number generation, etc., are provided for direct operation on arrays."
      ],
      "metadata": {
        "id": "cWZB_3PkR6cS"
      }
    },
    {
      "cell_type": "markdown",
      "source": [
        "Q16. What is the role of Bokeh in data visualization?\n",
        "\n",
        "ANS:- Bokeh is a Python library for creating interactive visualizations for\n",
        "      modern web browsers. It excels at handling large datasets and producing high-quality, interactive plots.  Bokeh's strength lies in its ability to create visualizations that can be easily shared and embedded in web applications or dashboards, facilitating dynamic data exploration."
      ],
      "metadata": {
        "id": "VlnTtvDATRw-"
      }
    },
    {
      "cell_type": "markdown",
      "source": [
        "Q17. Explain the difference between apply() and map() in Pandas?\n",
        "\n",
        "ANS:- apply():\n",
        "      1. Works on both Series and DataFrames.\n",
        "      2. More versatile than `map()`.  For Series, it acts similarly to `map()\n",
        "         `, but for DataFrames, it can operate on rows or columns.\n",
        "      3. Can be used with functions that operate on multiple elements or entire\n",
        "         rows/columns.\n",
        "      4. Suitable for more complex operations, aggregations, and  \n",
        "         transformations across rows or columns.\n",
        "\n",
        "      map():\n",
        "      1. Primarily used for Series.\n",
        "      2. Applies a function element-wise to each value in a Series.\n",
        "      3. Can be used with a dictionary or a function.\n",
        "      4. Suitable for simple element-wise transformations."
      ],
      "metadata": {
        "id": "2OAgLlj3WWyW"
      }
    },
    {
      "cell_type": "markdown",
      "source": [
        "Q18. What are some advanced features of NumPy?\n",
        "\n",
        "ANS:- 1. Broadcasting:  Broadcasting allows NumPy to perform arithmetic\n",
        "                        operationsbetween arrays of different shapes, under certain conditions.  It automatically expands the smaller array to match the larger one, enabling efficient element-wise operations.\n",
        "\n",
        "       2. Structured Arrays: Structured arrays allow you to store  \n",
        "                             heterogeneous datawithin a single array.  Each element in the array can have different data types, similar to a record or a structure in other programming languages.This is useful when you need to represent complex data structures.\n",
        "\n",
        "      3. Memory Mapping: Memory mapping enables you to work with very large\n",
        "                         datasetsthat may not fit into RAM. It maps a file or part of a file to memory.Changes made to the memory-mapped array are directly reflected in the file.\n",
        "\n",
        "      4. Linear Algebra Operations:  NumPy provides a comprehensive set of\n",
        "                                    linear algebra functions, including matrix multiplication, solving linear equations, eigenvalue decomposition, and more. These functions are highly optimized for performance.\n",
        "\n",
        "      5. Fourier Transforms: NumPy includes efficient functions for computing\n",
        "                             fast Fourier transforms (FFTs).  FFTs are fundamental in signal processing, image processing, and other scientific domains."
      ],
      "metadata": {
        "id": "H88hNjuVXGCt"
      }
    },
    {
      "cell_type": "markdown",
      "source": [
        "Q19. How does Pandas simplify time series analysis?\n",
        "\n",
        "ANS:- Pandas simplifies time series analysis in several ways:\n",
        "\n",
        "     1. Data Structures: Pandas provides the DateTimeIndex, which is\n",
        "                         specifically designed for time series data. It allows for efficient indexing, slicing, and manipulation of time-based data.\n",
        "\n",
        "     2. Date/Time Functionality: Pandas offers a rich set of functions and     and                         methods for working with dates and times. This\n",
        "                                includes creating date ranges, resampling data to different frequencies, and performing time-based calculations (e.g., time differences, rolling calculations).\n",
        "\n",
        "     3. Time Series-Specific Operations: Pandas includes functions for time\n",
        "                                         series analysis like autocorrelation, moving averages, lagging/leading data, and more.\n",
        "\n",
        "    4. Handling Irregular Time Series: Pandas can easily handle time series  \n",
        "                                       with irregular or missing data points.  It offers methods to interpolate missing values and align data from different time series with different frequencies.\n",
        "\n",
        "    5. Integration with other Libraries: Pandas integrates seamlessly with\n",
        "                                         other libraries used in data analysis and time series modeling (like statsmodels, scikit-learn, and Prophet), simplifying the workflow for tasks like time series forecasting and statistical analysis."
      ],
      "metadata": {
        "id": "H2NApSgJYET9"
      }
    },
    {
      "cell_type": "markdown",
      "source": [
        "Q20. What is the role of a pivot table in Pandas?\n",
        "\n",
        "ANS:- In Pandas, a pivot table is a powerful tool for data summarization and\n",
        "      reshaping. It allows you to reorganize a DataFrame by one or more columns (grouping), and then apply an aggregation function (like sum, mean, count, etc.) to other columns within those groups.  This effectively creates a new table that provides a concise overview of your data, highlighting patterns and relationships between different variables.  Pivot tables are especially useful for exploring multi-dimensional data and gaining insights into how various factors interact.\n"
      ],
      "metadata": {
        "id": "aKAex1SHZB7x"
      }
    },
    {
      "cell_type": "markdown",
      "source": [
        "Q21. Why is NumPy’s array slicing faster than Python’s list slicing?\n",
        "\n",
        "ANS:- NumPy array slicing is significantly faster than Python list slicing due\n",
        "      to several key factors\n",
        "\n",
        "      1. Contiguous Memory: NumPy arrays store elements of the same data type  \n",
        "                            in contiguous blocks of memory. This contiguous storage allows for efficient access to data in memory because the computer can access multiple elements with a single memory fetch operation, which is known as vectorization.\n",
        "\n",
        "      2. Fixed Data Type: NumPy arrays have a fixed data type.  This means  \n",
        "                          each element occupies a known number of bytes in memory. Knowing the size of each element makes calculating memory offsets much simpler and faster.\n",
        "\n",
        "     3. C Implementation: NumPy is implemented in C, a compiled language.  This\n",
        "                          leads to very efficient low-level operations.  The array slicing in NumPy is performed within the optimized C code, which is executed much faster than the equivalent Python code.\n",
        "\n",
        "     4. Vectorized Operations: NumPy leverages SIMD (Single Instruction,  \n",
        "                              Multiple Data) instructions, which allow the CPU to perform the same operation on multiple data elements simultaneously. This results in significant performance improvements for vectorized operations (like slicing), especially on modern CPUs.\n",
        "\n",
        "      In contrast, Python lists are more flexible, allowing them to store objects of different data types in arbitrary memory locations. This flexibility comes at a cost: it makes it more difficult to efficiently access the data.To obtain a slice of a Python list, Python has to create a new list object and copy each element from the original list to the new one. This copying process is a relatively slow operation, especially for large lists.  This dynamic nature means that Python interprets data types at runtime whereas NumPy arrays are statically typed, and operations on NumPy arrays are often compiled down to machine code for more efficient execution."
      ],
      "metadata": {
        "id": "N6kTzsNuZgEP"
      }
    },
    {
      "cell_type": "markdown",
      "source": [
        "Q22. What are some common use cases for Seaborn?\n",
        "\n",
        "ANS:- 1. Exploratory Data Analysis (EDA): Seaborn excels at creating\n",
        "         visualizations that help you understand the relationships between variables in your dataset.\n",
        "\n",
        "      Common plots for EDA include:\n",
        "           scatterplots (relplot, scatterplot): To visualize the relationship\n",
        "                                                between two numerical variables.\n",
        "           histograms (histplot, displot): To examine the distribution of a                                 single variable.\n",
        "           box plots (boxplot): To show the distribution of a numerical  \n",
        "                                variable across different categories.\n",
        "           violin plots (violinplot): To visualize the distribution of a\n",
        "                                      numerical variable across categories, similar to box plots, but with more detail.\n",
        "           pair plots (pairplot): To visualize pairwise relationships between\n",
        "                                  multiple numerical variables.\n",
        "           heatmaps (heatmap): To show the correlation between multiple variables.\n",
        "           joint plots (jointplot): To visualize the relationship between two\n",
        "                                    numerical variables along with their marginal distributions.\n",
        "\n",
        "       2. Statistical Data Visualization: Seaborn provides functions to visualize\n",
        "      statistical relationships between variables. You can use it to:\n",
        "       Compare distributions: Compare the distribution of a numerical variable\n",
        "                              across different groups.\n",
        "       Regression analysis: Visualize the relationship between numerical\n",
        "                            variables using regression lines and confidence intervals (lmplot, regplot).\n",
        "       Time series analysis: Create visualizations of time series data (lineplot).\n",
        "\n",
        "       3. Data Storytelling and Presentation: Seaborn's attractive default\n",
        "                                              styles and customization options make it easy to create publication-quality figures for reports, presentations, and publications.\n",
        "\n",
        "       4. Advanced Visualizations: Seaborn offers a wider variety of specialized\n",
        "      plot types, which can be useful for specific types of data:\n",
        "           Categorical plots (countplot, barplot, pointplot):  To show counts  \n",
        "                                      or aggregated values for categorical data.\n",
        "           FacetGrid and PairGrid:  To create complex grids of plots, making   to compare multiple variables across different subsets of your data."
      ],
      "metadata": {
        "id": "ZgfyXEaTaTmP"
      }
    },
    {
      "cell_type": "markdown",
      "source": [
        "Practical"
      ],
      "metadata": {
        "id": "1W2dP_sub-Qd"
      }
    },
    {
      "cell_type": "markdown",
      "source": [
        "Q1. How do you create a 2D NumPy array and calculate the sum of each row?"
      ],
      "metadata": {
        "id": "dqGJrcxVcB-3"
      }
    },
    {
      "cell_type": "code",
      "source": [
        "import numpy as np\n",
        "\n",
        "# Create a 2D NumPy array\n",
        "arr_2d = np.array([[5, 4, 3], [2, 7, 6], [9, 8, 10]])\n",
        "\n",
        "# Calculate the sum of each row\n",
        "row_sums = np.sum(arr_2d, axis=1)\n",
        "\n",
        "# Print the original array and the row sums\n",
        "print(\"Original 2D array:\\n\", arr_2d)\n",
        "print(\"\\nSum of each row:\\n\", row_sums)\n"
      ],
      "metadata": {
        "colab": {
          "base_uri": "https://localhost:8080/"
        },
        "id": "zf9Cpux1cJTR",
        "outputId": "cb5271f6-3319-4fa1-cf11-940bd492dc24"
      },
      "execution_count": 6,
      "outputs": [
        {
          "output_type": "stream",
          "name": "stdout",
          "text": [
            "Original 2D array:\n",
            " [[ 5  4  3]\n",
            " [ 2  7  6]\n",
            " [ 9  8 10]]\n",
            "\n",
            "Sum of each row:\n",
            " [12 15 27]\n"
          ]
        }
      ]
    },
    {
      "cell_type": "markdown",
      "source": [
        "Q2. Write a Pandas script to find the mean of a specific column in a DataFrame."
      ],
      "metadata": {
        "id": "7c_3Vbv4c0v-"
      }
    },
    {
      "cell_type": "code",
      "source": [
        "import pandas as pd\n",
        "import numpy as np\n",
        "\n",
        "# Sample DataFrame (replace with your actual data)\n",
        "data = {'col1': [1, 2, 3, 4, 5],\n",
        "        'col2': [4, 7, 5, 10, 11],\n",
        "        'col3': [11, 12, 13, 14, 15]}\n",
        "df = pd.DataFrame(data)\n",
        "\n",
        "# Specify the column name\n",
        "column_name = 'col1'\n",
        "\n",
        "# Calculate the mean of the specified column\n",
        "mean_value = df[column_name].mean()\n",
        "\n",
        "# Print the mean value\n",
        "print(f\"The mean of column '{column_name}' is: {mean_value}\")\n"
      ],
      "metadata": {
        "colab": {
          "base_uri": "https://localhost:8080/"
        },
        "id": "BSXT9kSJc7mF",
        "outputId": "e114dc74-9d07-451f-c855-51ac90ef7186"
      },
      "execution_count": 5,
      "outputs": [
        {
          "output_type": "stream",
          "name": "stdout",
          "text": [
            "The mean of column 'col1' is: 3.0\n"
          ]
        }
      ]
    },
    {
      "cell_type": "markdown",
      "source": [
        "Q3. Create a scatter plot using Matplotlib."
      ],
      "metadata": {
        "id": "9ZqqmXrheCXn"
      }
    },
    {
      "cell_type": "code",
      "source": [
        "import matplotlib.pyplot as plt\n",
        "\n",
        "# Sample data (replace with your actual data)\n",
        "x = [2, 7, 3, 6, 8]\n",
        "y = [4, 3, 5, 1, 9]\n",
        "\n",
        "# Create the scatter plot\n",
        "plt.scatter(x, y)\n",
        "\n",
        "# Add labels and title\n",
        "plt.xlabel(\"X-axis\")\n",
        "plt.ylabel(\"Y-axis\")\n",
        "plt.title(\"Scatter Plot\")\n",
        "\n",
        "# Display the plot\n",
        "plt.show()"
      ],
      "metadata": {
        "colab": {
          "base_uri": "https://localhost:8080/",
          "height": 472
        },
        "id": "w7xEqO2Gejsw",
        "outputId": "a213edf3-7382-4bad-87d2-ebd688f0b772"
      },
      "execution_count": 9,
      "outputs": [
        {
          "output_type": "display_data",
          "data": {
            "text/plain": [
              "<Figure size 640x480 with 1 Axes>"
            ],
            "image/png": "[encoded data removed]"
          },
          "metadata": {}
        }
      ]
    },
    {
      "cell_type": "markdown",
      "source": [
        "Q4. How do you calculate the correlation matrix using Seaborn and visualize it with a heatmap."
      ],
      "metadata": {
        "id": "btI_2tX5e_JP"
      }
    },
    {
      "cell_type": "code",
      "source": [
        "import seaborn as sns\n",
        "import matplotlib.pyplot as plt\n",
        "\n",
        "# Sample DataFrame (replace with your actual data)\n",
        "data = {'col1': [17, 2, 3, 4, 5],\n",
        "        'col2': [8, 7, 5, 10, 6],\n",
        "        'col3': [9, 12, 13, 11, 14]}\n",
        "df = pd.DataFrame(data)\n",
        "\n",
        "# Calculate the correlation matrix\n",
        "correlation_matrix = df.corr()\n",
        "\n",
        "# Create the heatmap\n",
        "plt.figure(figsize=(7, 5))  # Adjust figure size as needed\n",
        "sns.heatmap(correlation_matrix, annot=True, cmap='coolwarm', fmt=\".2f\")\n",
        "plt.title('Correlation Matrix Heatmap')\n",
        "plt.show()"
      ],
      "metadata": {
        "colab": {
          "base_uri": "https://localhost:8080/",
          "height": 468
        },
        "id": "9Bndm73rfKw6",
        "outputId": "4f953e60-a5e7-4cd1-89bc-40c0df28a60e"
      },
      "execution_count": 12,
      "outputs": [
        {
          "output_type": "display_data",
          "data": {
            "text/plain": [
              "<Figure size 700x500 with 2 Axes>"
            ],
            "image/png": "[encoded data removed]"
          },
          "metadata": {}
        }
      ]
    },
    {
      "cell_type": "markdown",
      "source": [
        "Q5. Generate a bar plot using Plotly."
      ],
      "metadata": {
        "id": "UYQFwfhWf1W0"
      }
    },
    {
      "cell_type": "code",
      "source": [
        "import plotly.graph_objects as go\n",
        "\n",
        "# Sample data (replace with your actual data)\n",
        "categories = ['A', 'B', 'C', 'D', 'E']\n",
        "values = [8, 10, 6, 14, 20]\n",
        "\n",
        "# Create the bar plot\n",
        "fig = go.Figure(data=[go.Bar(x=categories, y=values)])\n",
        "\n",
        "# Customize the plot (optional)\n",
        "fig.update_layout(title='Bar Plot', xaxis_title='Categories', yaxis_title='Values')\n",
        "\n",
        "# Show the plot\n",
        "fig.show()\n"
      ],
      "metadata": {
        "colab": {
          "base_uri": "https://localhost:8080/",
          "height": 542
        },
        "id": "CDUlNSQFf7i3",
        "outputId": "95375d80-e3d8-4d57-f377-b0588db1a882"
      },
      "execution_count": 14,
      "outputs": [
        {
          "output_type": "display_data",
          "data": {
            "text/html": [
              "<html>\n",
              "<head><meta charset=\"utf-8\" /></head>\n",
              "<body>\n",
              "    <div>            <script src=\"https://cdnjs.cloudflare.com/ajax/libs/mathjax/2.7.5/MathJax.js?config=TeX-AMS-MML_SVG\"></script><script type=\"text/javascript\">if (window.MathJax && window.MathJax.Hub && window.MathJax.Hub.Config) {window.MathJax.Hub.Config({SVG: {font: \"STIX-Web\"}});}</script>                <script type=\"text/javascript\">window.PlotlyConfig = {MathJaxConfig: 'local'};</script>\n",
              "        <script charset=\"utf-8\" src=\"https://cdn.plot.ly/plotly-2.35.2.min.js\"></script>                <div id=\"9db8ba6c-9e66-4ec2-b8de-bab1f50e7464\" class=\"plotly-graph-div\" style=\"height:525px; width:100%;\"></div>            <script type=\"text/javascript\">                                    window.PLOTLYENV=window.PLOTLYENV || {};                                    if (document.getElementById(\"9db8ba6c-9e66-4ec2-b8de-bab1f50e7464\")) {                    Plotly.newPlot(                        \"9db8ba6c-9e66-4ec2-b8de-bab1f50e7464\",                        [{\"x\":[\"A\",\"B\",\"C\",\"D\",\"E\"],\"y\":[8,10,6,14,20],\"type\":\"bar\"}],                        {\"template\":{\"data\":{\"histogram2dcontour\":[{\"type\":\"histogram2dcontour\",\"colorbar\":{\"outlinewidth\":0,\"ticks\":\"\"},\"colorscale\":[[0.0,\"#0d0887\"],[0.1111111111111111,\"#46039f\"],[0.2222222222222222,\"#7201a8\"],[0.3333333333333333,\"#9c179e\"],[0.4444444444444444,\"#bd3786\"],[0.5555555555555556,\"#d8576b\"],[0.6666666666666666,\"#ed7953\"],[0.7777777777777778,\"#fb9f3a\"],[0.8888888888888888,\"#fdca26\"],[1.0,\"#f0f921\"]]}],\"choropleth\":[{\"type\":\"choropleth\",\"colorbar\":{\"outlinewidth\":0,\"ticks\":\"\"}}],\"histogram2d\":[{\"type\":\"histogram2d\",\"colorbar\":{\"outlinewidth\":0,\"ticks\":\"\"},\"colorscale\":[[0.0,\"#0d0887\"],[0.1111111111111111,\"#46039f\"],[0.2222222222222222,\"#7201a8\"],[0.3333333333333333,\"#9c179e\"],[0.4444444444444444,\"#bd3786\"],[0.5555555555555556,\"#d8576b\"],[0.6666666666666666,\"#ed7953\"],[0.7777777777777778,\"#fb9f3a\"],[0.8888888888888888,\"#fdca26\"],[1.0,\"#f0f921\"]]}],\"heatmap\":[{\"type\":\"heatmap\",\"colorbar\":{\"outlinewidth\":0,\"ticks\":\"\"},\"colorscale\":[[0.0,\"#0d0887\"],[0.1111111111111111,\"#46039f\"],[0.2222222222222222,\"#7201a8\"],[0.3333333333333333,\"#9c179e\"],[0.4444444444444444,\"#bd3786\"],[0.5555555555555556,\"#d8576b\"],[0.6666666666666666,\"#ed7953\"],[0.7777777777777778,\"#fb9f3a\"],[0.8888888888888888,\"#fdca26\"],[1.0,\"#f0f921\"]]}],\"heatmapgl\":[{\"type\":\"heatmapgl\",\"colorbar\":{\"outlinewidth\":0,\"ticks\":\"\"},\"colorscale\":[[0.0,\"#0d0887\"],[0.1111111111111111,\"#46039f\"],[0.2222222222222222,\"#7201a8\"],[0.3333333333333333,\"#9c179e\"],[0.4444444444444444,\"#bd3786\"],[0.5555555555555556,\"#d8576b\"],[0.6666666666666666,\"#ed7953\"],[0.7777777777777778,\"#fb9f3a\"],[0.8888888888888888,\"#fdca26\"],[1.0,\"#f0f921\"]]}],\"contourcarpet\":[{\"type\":\"contourcarpet\",\"colorbar\":{\"outlinewidth\":0,\"ticks\":\"\"}}],\"contour\":[{\"type\":\"contour\",\"colorbar\":{\"outlinewidth\":0,\"ticks\":\"\"},\"colorscale\":[[0.0,\"#0d0887\"],[0.1111111111111111,\"#46039f\"],[0.2222222222222222,\"#7201a8\"],[0.3333333333333333,\"#9c179e\"],[0.4444444444444444,\"#bd3786\"],[0.5555555555555556,\"#d8576b\"],[0.6666666666666666,\"#ed7953\"],[0.7777777777777778,\"#fb9f3a\"],[0.8888888888888888,\"#fdca26\"],[1.0,\"#f0f921\"]]}],\"surface\":[{\"type\":\"surface\",\"colorbar\":{\"outlinewidth\":0,\"ticks\":\"\"},\"colorscale\":[[0.0,\"#0d0887\"],[0.1111111111111111,\"#46039f\"],[0.2222222222222222,\"#7201a8\"],[0.3333333333333333,\"#9c179e\"],[0.4444444444444444,\"#bd3786\"],[0.5555555555555556,\"#d8576b\"],[0.6666666666666666,\"#ed7953\"],[0.7777777777777778,\"#fb9f3a\"],[0.8888888888888888,\"#fdca26\"],[1.0,\"#f0f921\"]]}],\"mesh3d\":[{\"type\":\"mesh3d\",\"colorbar\":{\"outlinewidth\":0,\"ticks\":\"\"}}],\"scatter\":[{\"fillpattern\":{\"fillmode\":\"overlay\",\"size\":10,\"solidity\":0.2},\"type\":\"scatter\"}],\"parcoords\":[{\"type\":\"parcoords\",\"line\":{\"colorbar\":{\"outlinewidth\":0,\"ticks\":\"\"}}}],\"scatterpolargl\":[{\"type\":\"scatterpolargl\",\"marker\":{\"colorbar\":{\"outlinewidth\":0,\"ticks\":\"\"}}}],\"bar\":[{\"error_x\":{\"color\":\"#2a3f5f\"},\"error_y\":{\"color\":\"#2a3f5f\"},\"marker\":{\"line\":{\"color\":\"#E5ECF6\",\"width\":0.5},\"pattern\":{\"fillmode\":\"overlay\",\"size\":10,\"solidity\":0.2}},\"type\":\"bar\"}],\"scattergeo\":[{\"type\":\"scattergeo\",\"marker\":{\"colorbar\":{\"outlinewidth\":0,\"ticks\":\"\"}}}],\"scatterpolar\":[{\"type\":\"scatterpolar\",\"marker\":{\"colorbar\":{\"outlinewidth\":0,\"ticks\":\"\"}}}],\"histogram\":[{\"marker\":{\"pattern\":{\"fillmode\":\"overlay\",\"size\":10,\"solidity\":0.2}},\"type\":\"histogram\"}],\"scattergl\":[{\"type\":\"scattergl\",\"marker\":{\"colorbar\":{\"outlinewidth\":0,\"ticks\":\"\"}}}],\"scatter3d\":[{\"type\":\"scatter3d\",\"line\":{\"colorbar\":{\"outlinewidth\":0,\"ticks\":\"\"}},\"marker\":{\"colorbar\":{\"outlinewidth\":0,\"ticks\":\"\"}}}],\"scattermapbox\":[{\"type\":\"scattermapbox\",\"marker\":{\"colorbar\":{\"outlinewidth\":0,\"ticks\":\"\"}}}],\"scatterternary\":[{\"type\":\"scatterternary\",\"marker\":{\"colorbar\":{\"outlinewidth\":0,\"ticks\":\"\"}}}],\"scattercarpet\":[{\"type\":\"scattercarpet\",\"marker\":{\"colorbar\":{\"outlinewidth\":0,\"ticks\":\"\"}}}],\"carpet\":[{\"aaxis\":{\"endlinecolor\":\"#2a3f5f\",\"gridcolor\":\"white\",\"linecolor\":\"white\",\"minorgridcolor\":\"white\",\"startlinecolor\":\"#2a3f5f\"},\"baxis\":{\"endlinecolor\":\"#2a3f5f\",\"gridcolor\":\"white\",\"linecolor\":\"white\",\"minorgridcolor\":\"white\",\"startlinecolor\":\"#2a3f5f\"},\"type\":\"carpet\"}],\"table\":[{\"cells\":{\"fill\":{\"color\":\"#EBF0F8\"},\"line\":{\"color\":\"white\"}},\"header\":{\"fill\":{\"color\":\"#C8D4E3\"},\"line\":{\"color\":\"white\"}},\"type\":\"table\"}],\"barpolar\":[{\"marker\":{\"line\":{\"color\":\"#E5ECF6\",\"width\":0.5},\"pattern\":{\"fillmode\":\"overlay\",\"size\":10,\"solidity\":0.2}},\"type\":\"barpolar\"}],\"pie\":[{\"automargin\":true,\"type\":\"pie\"}]},\"layout\":{\"autotypenumbers\":\"strict\",\"colorway\":[\"#636efa\",\"#EF553B\",\"#00cc96\",\"#ab63fa\",\"#FFA15A\",\"#19d3f3\",\"#FF6692\",\"#B6E880\",\"#FF97FF\",\"#FECB52\"],\"font\":{\"color\":\"#2a3f5f\"},\"hovermode\":\"closest\",\"hoverlabel\":{\"align\":\"left\"},\"paper_bgcolor\":\"white\",\"plot_bgcolor\":\"#E5ECF6\",\"polar\":{\"bgcolor\":\"#E5ECF6\",\"angularaxis\":{\"gridcolor\":\"white\",\"linecolor\":\"white\",\"ticks\":\"\"},\"radialaxis\":{\"gridcolor\":\"white\",\"linecolor\":\"white\",\"ticks\":\"\"}},\"ternary\":{\"bgcolor\":\"#E5ECF6\",\"aaxis\":{\"gridcolor\":\"white\",\"linecolor\":\"white\",\"ticks\":\"\"},\"baxis\":{\"gridcolor\":\"white\",\"linecolor\":\"white\",\"ticks\":\"\"},\"caxis\":{\"gridcolor\":\"white\",\"linecolor\":\"white\",\"ticks\":\"\"}},\"coloraxis\":{\"colorbar\":{\"outlinewidth\":0,\"ticks\":\"\"}},\"colorscale\":{\"sequential\":[[0.0,\"#0d0887\"],[0.1111111111111111,\"#46039f\"],[0.2222222222222222,\"#7201a8\"],[0.3333333333333333,\"#9c179e\"],[0.4444444444444444,\"#bd3786\"],[0.5555555555555556,\"#d8576b\"],[0.6666666666666666,\"#ed7953\"],[0.7777777777777778,\"#fb9f3a\"],[0.8888888888888888,\"#fdca26\"],[1.0,\"#f0f921\"]],\"sequentialminus\":[[0.0,\"#0d0887\"],[0.1111111111111111,\"#46039f\"],[0.2222222222222222,\"#7201a8\"],[0.3333333333333333,\"#9c179e\"],[0.4444444444444444,\"#bd3786\"],[0.5555555555555556,\"#d8576b\"],[0.6666666666666666,\"#ed7953\"],[0.7777777777777778,\"#fb9f3a\"],[0.8888888888888888,\"#fdca26\"],[1.0,\"#f0f921\"]],\"diverging\":[[0,\"#8e0152\"],[0.1,\"#c51b7d\"],[0.2,\"#de77ae\"],[0.3,\"#f1b6da\"],[0.4,\"#fde0ef\"],[0.5,\"#f7f7f7\"],[0.6,\"#e6f5d0\"],[0.7,\"#b8e186\"],[0.8,\"#7fbc41\"],[0.9,\"#4d9221\"],[1,\"#276419\"]]},\"xaxis\":{\"gridcolor\":\"white\",\"linecolor\":\"white\",\"ticks\":\"\",\"title\":{\"standoff\":15},\"zerolinecolor\":\"white\",\"automargin\":true,\"zerolinewidth\":2},\"yaxis\":{\"gridcolor\":\"white\",\"linecolor\":\"white\",\"ticks\":\"\",\"title\":{\"standoff\":15},\"zerolinecolor\":\"white\",\"automargin\":true,\"zerolinewidth\":2},\"scene\":{\"xaxis\":{\"backgroundcolor\":\"#E5ECF6\",\"gridcolor\":\"white\",\"linecolor\":\"white\",\"showbackground\":true,\"ticks\":\"\",\"zerolinecolor\":\"white\",\"gridwidth\":2},\"yaxis\":{\"backgroundcolor\":\"#E5ECF6\",\"gridcolor\":\"white\",\"linecolor\":\"white\",\"showbackground\":true,\"ticks\":\"\",\"zerolinecolor\":\"white\",\"gridwidth\":2},\"zaxis\":{\"backgroundcolor\":\"#E5ECF6\",\"gridcolor\":\"white\",\"linecolor\":\"white\",\"showbackground\":true,\"ticks\":\"\",\"zerolinecolor\":\"white\",\"gridwidth\":2}},\"shapedefaults\":{\"line\":{\"color\":\"#2a3f5f\"}},\"annotationdefaults\":{\"arrowcolor\":\"#2a3f5f\",\"arrowhead\":0,\"arrowwidth\":1},\"geo\":{\"bgcolor\":\"white\",\"landcolor\":\"#E5ECF6\",\"subunitcolor\":\"white\",\"showland\":true,\"showlakes\":true,\"lakecolor\":\"white\"},\"title\":{\"x\":0.05},\"mapbox\":{\"style\":\"light\"}}},\"title\":{\"text\":\"Bar Plot\"},\"xaxis\":{\"title\":{\"text\":\"Categories\"}},\"yaxis\":{\"title\":{\"text\":\"Values\"}}},                        {\"responsive\": true}                    ).then(function(){\n",
              "                            \n",
              "var gd = document.getElementById('9db8ba6c-9e66-4ec2-b8de-bab1f50e7464');\n",
              "var x = new MutationObserver(function (mutations, observer) {{\n",
              "        var display = window.getComputedStyle(gd).display;\n",
              "        if (!display || display === 'none') {{\n",
              "            console.log([gd, 'removed!']);\n",
              "            Plotly.purge(gd);\n",
              "            observer.disconnect();\n",
              "        }}\n",
              "}});\n",
              "\n",
              "// Listen for the removal of the full notebook cells\n",
              "var notebookContainer = gd.closest('#notebook-container');\n",
              "if (notebookContainer) {{\n",
              "    x.observe(notebookContainer, {childList: true});\n",
              "}}\n",
              "\n",
              "// Listen for the clearing of the current output cell\n",
              "var outputEl = gd.closest('.output');\n",
              "if (outputEl) {{\n",
              "    x.observe(outputEl, {childList: true});\n",
              "}}\n",
              "\n",
              "                        })                };                            </script>        </div>\n",
              "</body>\n",
              "</html>"
            ]
          },
          "metadata": {}
        }
      ]
    },
    {
      "cell_type": "markdown",
      "source": [
        "Q6. Create a DataFrame and add a new column based on an existing column."
      ],
      "metadata": {
        "id": "LJkvdyZUgqpK"
      }
    },
    {
      "cell_type": "code",
      "source": [
        "import pandas as pd\n",
        "\n",
        "# Sample DataFrame\n",
        "data = {'col1': [7, 4, 2, 4, 3]}\n",
        "df = pd.DataFrame(data)\n",
        "\n",
        "# Add a new column 'col2' where each value is double the value in 'col1'\n",
        "df['col2'] = df['col1'] * 2\n",
        "\n",
        "# Print the DataFrame\n",
        "df\n"
      ],
      "metadata": {
        "colab": {
          "base_uri": "https://localhost:8080/",
          "height": 206
        },
        "id": "LC7dyaiEgu0Z",
        "outputId": "d007db1f-53fd-419b-a983-34fd21e49c74"
      },
      "execution_count": 16,
      "outputs": [
        {
          "output_type": "execute_result",
          "data": {
            "text/plain": [
              "   col1  col2\n",
              "0     7    14\n",
              "1     4     8\n",
              "2     2     4\n",
              "3     4     8\n",
              "4     3     6"
            ],
            "text/html": [
              "\n",
              "  <div id=\"df-5db495b3-2d3f-46a3-a3d0-8fb1c014b045\" class=\"colab-df-container\">\n",
              "    <div>\n",
              "<style scoped>\n",
              "    .dataframe tbody tr th:only-of-type {\n",
              "        vertical-align: middle;\n",
              "    }\n",
              "\n",
              "    .dataframe tbody tr th {\n",
              "        vertical-align: top;\n",
              "    }\n",
              "\n",
              "    .dataframe thead th {\n",
              "        text-align: right;\n",
              "    }\n",
              "</style>\n",
              "<table border=\"1\" class=\"dataframe\">\n",
              "  <thead>\n",
              "    <tr style=\"text-align: right;\">\n",
              "      <th></th>\n",
              "      <th>col1</th>\n",
              "      <th>col2</th>\n",
              "    </tr>\n",
              "  </thead>\n",
              "  <tbody>\n",
              "    <tr>\n",
              "      <th>0</th>\n",
              "      <td>7</td>\n",
              "      <td>14</td>\n",
              "    </tr>\n",
              "    <tr>\n",
              "      <th>1</th>\n",
              "      <td>4</td>\n",
              "      <td>8</td>\n",
              "    </tr>\n",
              "    <tr>\n",
              "      <th>2</th>\n",
              "      <td>2</td>\n",
              "      <td>4</td>\n",
              "    </tr>\n",
              "    <tr>\n",
              "      <th>3</th>\n",
              "      <td>4</td>\n",
              "      <td>8</td>\n",
              "    </tr>\n",
              "    <tr>\n",
              "      <th>4</th>\n",
              "      <td>3</td>\n",
              "      <td>6</td>\n",
              "    </tr>\n",
              "  </tbody>\n",
              "</table>\n",
              "</div>\n",
              "    <div class=\"colab-df-buttons\">\n",
              "\n",
              "  <div class=\"colab-df-container\">\n",
              "    <button class=\"colab-df-convert\" onclick=\"convertToInteractive('df-5db495b3-2d3f-46a3-a3d0-8fb1c014b045')\"\n",
              "            title=\"Convert this dataframe to an interactive table.\"\n",
              "            style=\"display:none;\">\n",
              "\n",
              "  <svg xmlns=\"http://www.w3.org/2000/svg\" height=\"24px\" viewBox=\"0 -960 960 960\">\n",
              "    <path d=\"M120-120v-720h720v720H120Zm60-500h600v-160H180v160Zm220 220h160v-160H400v160Zm0 220h160v-160H400v160ZM180-400h160v-160H180v160Zm440 0h160v-160H620v160ZM180-180h160v-160H180v160Zm440 0h160v-160H620v160Z\"/>\n",
              "  </svg>\n",
              "    </button>\n",
              "\n",
              "  <style>\n",
              "    .colab-df-container {\n",
              "      display:flex;\n",
              "      gap: 12px;\n",
              "    }\n",
              "\n",
              "    .colab-df-convert {\n",
              "      background-color: #E8F0FE;\n",
              "      border: none;\n",
              "      border-radius: 50%;\n",
              "      cursor: pointer;\n",
              "      display: none;\n",
              "      fill: #1967D2;\n",
              "      height: 32px;\n",
              "      padding: 0 0 0 0;\n",
              "      width: 32px;\n",
              "    }\n",
              "\n",
              "    .colab-df-convert:hover {\n",
              "      background-color: #E2EBFA;\n",
              "      box-shadow: 0px 1px 2px rgba(60, 64, 67, 0.3), 0px 1px 3px 1px rgba(60, 64, 67, 0.15);\n",
              "      fill: #174EA6;\n",
              "    }\n",
              "\n",
              "    .colab-df-buttons div {\n",
              "      margin-bottom: 4px;\n",
              "    }\n",
              "\n",
              "    [theme=dark] .colab-df-convert {\n",
              "      background-color: #3B4455;\n",
              "      fill: #D2E3FC;\n",
              "    }\n",
              "\n",
              "    [theme=dark] .colab-df-convert:hover {\n",
              "      background-color: #434B5C;\n",
              "      box-shadow: 0px 1px 3px 1px rgba(0, 0, 0, 0.15);\n",
              "      filter: drop-shadow(0px 1px 2px rgba(0, 0, 0, 0.3));\n",
              "      fill: #FFFFFF;\n",
              "    }\n",
              "  </style>\n",
              "\n",
              "    <script>\n",
              "      const buttonEl =\n",
              "        document.querySelector('#df-5db495b3-2d3f-46a3-a3d0-8fb1c014b045 button.colab-df-convert');\n",
              "      buttonEl.style.display =\n",
              "        google.colab.kernel.accessAllowed ? 'block' : 'none';\n",
              "\n",
              "      async function convertToInteractive(key) {\n",
              "        const element = document.querySelector('#df-5db495b3-2d3f-46a3-a3d0-8fb1c014b045');\n",
              "        const dataTable =\n",
              "          await google.colab.kernel.invokeFunction('convertToInteractive',\n",
              "                                                    [key], {});\n",
              "        if (!dataTable) return;\n",
              "\n",
              "        const docLinkHtml = 'Like what you see? Visit the ' +\n",
              "          '<a target=\"_blank\" href=https://colab.research.google.com/notebooks/data_table.ipynb>data table notebook</a>'\n",
              "          + ' to learn more about interactive tables.';\n",
              "        element.innerHTML = '';\n",
              "        dataTable['output_type'] = 'display_data';\n",
              "        await google.colab.output.renderOutput(dataTable, element);\n",
              "        const docLink = document.createElement('div');\n",
              "        docLink.innerHTML = docLinkHtml;\n",
              "        element.appendChild(docLink);\n",
              "      }\n",
              "    </script>\n",
              "  </div>\n",
              "\n",
              "\n",
              "<div id=\"df-0dec6266-d4d6-444a-8990-77aa351701e4\">\n",
              "  <button class=\"colab-df-quickchart\" onclick=\"quickchart('df-0dec6266-d4d6-444a-8990-77aa351701e4')\"\n",
              "            title=\"Suggest charts\"\n",
              "            style=\"display:none;\">\n",
              "\n",
              "<svg xmlns=\"http://www.w3.org/2000/svg\" height=\"24px\"viewBox=\"0 0 24 24\"\n",
              "     width=\"24px\">\n",
              "    <g>\n",
              "        <path d=\"M19 3H5c-1.1 0-2 .9-2 2v14c0 1.1.9 2 2 2h14c1.1 0 2-.9 2-2V5c0-1.1-.9-2-2-2zM9 17H7v-7h2v7zm4 0h-2V7h2v10zm4 0h-2v-4h2v4z\"/>\n",
              "    </g>\n",
              "</svg>\n",
              "  </button>\n",
              "\n",
              "<style>\n",
              "  .colab-df-quickchart {\n",
              "      --bg-color: #E8F0FE;\n",
              "      --fill-color: #1967D2;\n",
              "      --hover-bg-color: #E2EBFA;\n",
              "      --hover-fill-color: #174EA6;\n",
              "      --disabled-fill-color: #AAA;\n",
              "      --disabled-bg-color: #DDD;\n",
              "  }\n",
              "\n",
              "  [theme=dark] .colab-df-quickchart {\n",
              "      --bg-color: #3B4455;\n",
              "      --fill-color: #D2E3FC;\n",
              "      --hover-bg-color: #434B5C;\n",
              "      --hover-fill-color: #FFFFFF;\n",
              "      --disabled-bg-color: #3B4455;\n",
              "      --disabled-fill-color: #666;\n",
              "  }\n",
              "\n",
              "  .colab-df-quickchart {\n",
              "    background-color: var(--bg-color);\n",
              "    border: none;\n",
              "    border-radius: 50%;\n",
              "    cursor: pointer;\n",
              "    display: none;\n",
              "    fill: var(--fill-color);\n",
              "    height: 32px;\n",
              "    padding: 0;\n",
              "    width: 32px;\n",
              "  }\n",
              "\n",
              "  .colab-df-quickchart:hover {\n",
              "    background-color: var(--hover-bg-color);\n",
              "    box-shadow: 0 1px 2px rgba(60, 64, 67, 0.3), 0 1px 3px 1px rgba(60, 64, 67, 0.15);\n",
              "    fill: var(--button-hover-fill-color);\n",
              "  }\n",
              "\n",
              "  .colab-df-quickchart-complete:disabled,\n",
              "  .colab-df-quickchart-complete:disabled:hover {\n",
              "    background-color: var(--disabled-bg-color);\n",
              "    fill: var(--disabled-fill-color);\n",
              "    box-shadow: none;\n",
              "  }\n",
              "\n",
              "  .colab-df-spinner {\n",
              "    border: 2px solid var(--fill-color);\n",
              "    border-color: transparent;\n",
              "    border-bottom-color: var(--fill-color);\n",
              "    animation:\n",
              "      spin 1s steps(1) infinite;\n",
              "  }\n",
              "\n",
              "  @keyframes spin {\n",
              "    0% {\n",
              "      border-color: transparent;\n",
              "      border-bottom-color: var(--fill-color);\n",
              "      border-left-color: var(--fill-color);\n",
              "    }\n",
              "    20% {\n",
              "      border-color: transparent;\n",
              "      border-left-color: var(--fill-color);\n",
              "      border-top-color: var(--fill-color);\n",
              "    }\n",
              "    30% {\n",
              "      border-color: transparent;\n",
              "      border-left-color: var(--fill-color);\n",
              "      border-top-color: var(--fill-color);\n",
              "      border-right-color: var(--fill-color);\n",
              "    }\n",
              "    40% {\n",
              "      border-color: transparent;\n",
              "      border-right-color: var(--fill-color);\n",
              "      border-top-color: var(--fill-color);\n",
              "    }\n",
              "    60% {\n",
              "      border-color: transparent;\n",
              "      border-right-color: var(--fill-color);\n",
              "    }\n",
              "    80% {\n",
              "      border-color: transparent;\n",
              "      border-right-color: var(--fill-color);\n",
              "      border-bottom-color: var(--fill-color);\n",
              "    }\n",
              "    90% {\n",
              "      border-color: transparent;\n",
              "      border-bottom-color: var(--fill-color);\n",
              "    }\n",
              "  }\n",
              "</style>\n",
              "\n",
              "  <script>\n",
              "    async function quickchart(key) {\n",
              "      const quickchartButtonEl =\n",
              "        document.querySelector('#' + key + ' button');\n",
              "      quickchartButtonEl.disabled = true;  // To prevent multiple clicks.\n",
              "      quickchartButtonEl.classList.add('colab-df-spinner');\n",
              "      try {\n",
              "        const charts = await google.colab.kernel.invokeFunction(\n",
              "            'suggestCharts', [key], {});\n",
              "      } catch (error) {\n",
              "        console.error('Error during call to suggestCharts:', error);\n",
              "      }\n",
              "      quickchartButtonEl.classList.remove('colab-df-spinner');\n",
              "      quickchartButtonEl.classList.add('colab-df-quickchart-complete');\n",
              "    }\n",
              "    (() => {\n",
              "      let quickchartButtonEl =\n",
              "        document.querySelector('#df-0dec6266-d4d6-444a-8990-77aa351701e4 button');\n",
              "      quickchartButtonEl.style.display =\n",
              "        google.colab.kernel.accessAllowed ? 'block' : 'none';\n",
              "    })();\n",
              "  </script>\n",
              "</div>\n",
              "\n",
              "  <div id=\"id_d2ca3e55-7464-4367-8ceb-d0b8f91e4046\">\n",
              "    <style>\n",
              "      .colab-df-generate {\n",
              "        background-color: #E8F0FE;\n",
              "        border: none;\n",
              "        border-radius: 50%;\n",
              "        cursor: pointer;\n",
              "        display: none;\n",
              "        fill: #1967D2;\n",
              "        height: 32px;\n",
              "        padding: 0 0 0 0;\n",
              "        width: 32px;\n",
              "      }\n",
              "\n",
              "      .colab-df-generate:hover {\n",
              "        background-color: #E2EBFA;\n",
              "        box-shadow: 0px 1px 2px rgba(60, 64, 67, 0.3), 0px 1px 3px 1px rgba(60, 64, 67, 0.15);\n",
              "        fill: #174EA6;\n",
              "      }\n",
              "\n",
              "      [theme=dark] .colab-df-generate {\n",
              "        background-color: #3B4455;\n",
              "        fill: #D2E3FC;\n",
              "      }\n",
              "\n",
              "      [theme=dark] .colab-df-generate:hover {\n",
              "        background-color: #434B5C;\n",
              "        box-shadow: 0px 1px 3px 1px rgba(0, 0, 0, 0.15);\n",
              "        filter: drop-shadow(0px 1px 2px rgba(0, 0, 0, 0.3));\n",
              "        fill: #FFFFFF;\n",
              "      }\n",
              "    </style>\n",
              "    <button class=\"colab-df-generate\" onclick=\"generateWithVariable('df')\"\n",
              "            title=\"Generate code using this dataframe.\"\n",
              "            style=\"display:none;\">\n",
              "\n",
              "  <svg xmlns=\"http://www.w3.org/2000/svg\" height=\"24px\"viewBox=\"0 0 24 24\"\n",
              "       width=\"24px\">\n",
              "    <path d=\"M7,19H8.4L18.45,9,17,7.55,7,17.6ZM5,21V16.75L18.45,3.32a2,2,0,0,1,2.83,0l1.4,1.43a1.91,1.91,0,0,1,.58,1.4,1.91,1.91,0,0,1-.58,1.4L9.25,21ZM18.45,9,17,7.55Zm-12,3A5.31,5.31,0,0,0,4.9,8.1,5.31,5.31,0,0,0,1,6.5,5.31,5.31,0,0,0,4.9,4.9,5.31,5.31,0,0,0,6.5,1,5.31,5.31,0,0,0,8.1,4.9,5.31,5.31,0,0,0,12,6.5,5.46,5.46,0,0,0,6.5,12Z\"/>\n",
              "  </svg>\n",
              "    </button>\n",
              "    <script>\n",
              "      (() => {\n",
              "      const buttonEl =\n",
              "        document.querySelector('#id_d2ca3e55-7464-4367-8ceb-d0b8f91e4046 button.colab-df-generate');\n",
              "      buttonEl.style.display =\n",
              "        google.colab.kernel.accessAllowed ? 'block' : 'none';\n",
              "\n",
              "      buttonEl.onclick = () => {\n",
              "        google.colab.notebook.generateWithVariable('df');\n",
              "      }\n",
              "      })();\n",
              "    </script>\n",
              "  </div>\n",
              "\n",
              "    </div>\n",
              "  </div>\n"
            ],
            "application/vnd.google.colaboratory.intrinsic+json": {
              "type": "dataframe",
              "variable_name": "df",
              "summary": "{\n  \"name\": \"df\",\n  \"rows\": 5,\n  \"fields\": [\n    {\n      \"column\": \"col1\",\n      \"properties\": {\n        \"dtype\": \"number\",\n        \"std\": 1,\n        \"min\": 2,\n        \"max\": 7,\n        \"num_unique_values\": 4,\n        \"samples\": [\n          4,\n          3,\n          7\n        ],\n        \"semantic_type\": \"\",\n        \"description\": \"\"\n      }\n    },\n    {\n      \"column\": \"col2\",\n      \"properties\": {\n        \"dtype\": \"number\",\n        \"std\": 3,\n        \"min\": 4,\n        \"max\": 14,\n        \"num_unique_values\": 4,\n        \"samples\": [\n          8,\n          6,\n          14\n        ],\n        \"semantic_type\": \"\",\n        \"description\": \"\"\n      }\n    }\n  ]\n}"
            }
          },
          "metadata": {},
          "execution_count": 16
        }
      ]
    },
    {
      "cell_type": "markdown",
      "source": [
        "Q7. Write a program to perform element-wise multiplication of two NumPy arrays."
      ],
      "metadata": {
        "id": "6c0xqGoYhU2W"
      }
    },
    {
      "cell_type": "code",
      "source": [
        "import numpy as np\n",
        "\n",
        "# Sample NumPy arrays (replace with your actual arrays)\n",
        "array1 = np.array([[1, 2, 3], [4, 5, 6]])\n",
        "array2 = np.array([[7, 8, 9], [10, 11, 12]])\n",
        "\n",
        "# Element-wise multiplication using the * operator\n",
        "result_array = array1 * array2\n",
        "\n",
        "# Print the result\n",
        "print(\"Result of element-wise multiplication:\\n\", result_array)"
      ],
      "metadata": {
        "colab": {
          "base_uri": "https://localhost:8080/"
        },
        "id": "luFMF8oEhu62",
        "outputId": "ee8e72b5-34c5-4746-bb3e-0dcc3e8bed26"
      },
      "execution_count": 18,
      "outputs": [
        {
          "output_type": "stream",
          "name": "stdout",
          "text": [
            "Result of element-wise multiplication:\n",
            " [[ 7 16 27]\n",
            " [40 55 72]]\n"
          ]
        }
      ]
    },
    {
      "cell_type": "markdown",
      "source": [
        "Q8. Create a line plot with multiple lines using Matplotlib."
      ],
      "metadata": {
        "id": "kh0KU9Xdh6cN"
      }
    },
    {
      "cell_type": "code",
      "source": [
        "import matplotlib.pyplot as plt\n",
        "\n",
        "# Sample data (replace with your actual data)\n",
        "x = [1, 2, 3, 4, 5]\n",
        "y1 = [2, 4, 6, 5, 2]\n",
        "y2 = [3, 1, 4, 2, 5]\n",
        "y3 = [7, 3, 6, 4, 5]\n",
        "\n",
        "# Create the line plot\n",
        "plt.plot(x, y1, label='Line 1')\n",
        "plt.plot(x, y2, label='Line 2')\n",
        "plt.plot(x, y3, label='Line 3')\n",
        "\n",
        "\n",
        "# Add labels and title\n",
        "plt.xlabel(\"X-axis\")\n",
        "plt.ylabel(\"Y-axis\")\n",
        "plt.title(\"Multiple Lines Plot\")\n",
        "\n",
        "# Add a legend\n",
        "plt.legend()\n",
        "\n",
        "# Display the plot\n",
        "plt.show()\n"
      ],
      "metadata": {
        "colab": {
          "base_uri": "https://localhost:8080/",
          "height": 472
        },
        "id": "SiabixKnh_NS",
        "outputId": "ca08b49b-3aba-4a5c-f630-129e6441a887"
      },
      "execution_count": 20,
      "outputs": [
        {
          "output_type": "display_data",
          "data": {
            "text/plain": [
              "<Figure size 640x480 with 1 Axes>"
            ],
            "image/png": "[encoded data removed]"
          },
          "metadata": {}
        }
      ]
    },
    {
      "cell_type": "markdown",
      "source": [
        "Q9. Generate a Pandas DataFrame and filter rows where a column value is greater than a threshold."
      ],
      "metadata": {
        "id": "5EwKRbn-iold"
      }
    },
    {
      "cell_type": "code",
      "source": [
        "import pandas as pd\n",
        "\n",
        "# Sample DataFrame (replace with your actual data)\n",
        "data = {'col1': [1, 2, 3, 4, 5],\n",
        "        'col2': [10, 20, 30, 40, 50],\n",
        "        'col3': [100, 200, 300, 400, 500]}\n",
        "df = pd.DataFrame(data)\n",
        "\n",
        "# Set the threshold value\n",
        "threshold = 25\n",
        "\n",
        "# Filter rows where 'col2' is greater than the threshold\n",
        "filtered_df = df[df['col2'] > threshold]\n",
        "\n",
        "# Print the filtered DataFrame\n",
        "filtered_df\n"
      ],
      "metadata": {
        "colab": {
          "base_uri": "https://localhost:8080/",
          "height": 143
        },
        "id": "570GRsa-itSx",
        "outputId": "bb182535-5d45-41d9-c471-b61f4b78acc9"
      },
      "execution_count": 21,
      "outputs": [
        {
          "output_type": "execute_result",
          "data": {
            "text/plain": [
              "   col1  col2  col3\n",
              "2     3    30   300\n",
              "3     4    40   400\n",
              "4     5    50   500"
            ],
            "text/html": [
              "\n",
              "  <div id=\"df-ae2e9a5d-9da0-4e46-8ecb-70249aee7b89\" class=\"colab-df-container\">\n",
              "    <div>\n",
              "<style scoped>\n",
              "    .dataframe tbody tr th:only-of-type {\n",
              "        vertical-align: middle;\n",
              "    }\n",
              "\n",
              "    .dataframe tbody tr th {\n",
              "        vertical-align: top;\n",
              "    }\n",
              "\n",
              "    .dataframe thead th {\n",
              "        text-align: right;\n",
              "    }\n",
              "</style>\n",
              "<table border=\"1\" class=\"dataframe\">\n",
              "  <thead>\n",
              "    <tr style=\"text-align: right;\">\n",
              "      <th></th>\n",
              "      <th>col1</th>\n",
              "      <th>col2</th>\n",
              "      <th>col3</th>\n",
              "    </tr>\n",
              "  </thead>\n",
              "  <tbody>\n",
              "    <tr>\n",
              "      <th>2</th>\n",
              "      <td>3</td>\n",
              "      <td>30</td>\n",
              "      <td>300</td>\n",
              "    </tr>\n",
              "    <tr>\n",
              "      <th>3</th>\n",
              "      <td>4</td>\n",
              "      <td>40</td>\n",
              "      <td>400</td>\n",
              "    </tr>\n",
              "    <tr>\n",
              "      <th>4</th>\n",
              "      <td>5</td>\n",
              "      <td>50</td>\n",
              "      <td>500</td>\n",
              "    </tr>\n",
              "  </tbody>\n",
              "</table>\n",
              "</div>\n",
              "    <div class=\"colab-df-buttons\">\n",
              "\n",
              "  <div class=\"colab-df-container\">\n",
              "    <button class=\"colab-df-convert\" onclick=\"convertToInteractive('df-ae2e9a5d-9da0-4e46-8ecb-70249aee7b89')\"\n",
              "            title=\"Convert this dataframe to an interactive table.\"\n",
              "            style=\"display:none;\">\n",
              "\n",
              "  <svg xmlns=\"http://www.w3.org/2000/svg\" height=\"24px\" viewBox=\"0 -960 960 960\">\n",
              "    <path d=\"M120-120v-720h720v720H120Zm60-500h600v-160H180v160Zm220 220h160v-160H400v160Zm0 220h160v-160H400v160ZM180-400h160v-160H180v160Zm440 0h160v-160H620v160ZM180-180h160v-160H180v160Zm440 0h160v-160H620v160Z\"/>\n",
              "  </svg>\n",
              "    </button>\n",
              "\n",
              "  <style>\n",
              "    .colab-df-container {\n",
              "      display:flex;\n",
              "      gap: 12px;\n",
              "    }\n",
              "\n",
              "    .colab-df-convert {\n",
              "      background-color: #E8F0FE;\n",
              "      border: none;\n",
              "      border-radius: 50%;\n",
              "      cursor: pointer;\n",
              "      display: none;\n",
              "      fill: #1967D2;\n",
              "      height: 32px;\n",
              "      padding: 0 0 0 0;\n",
              "      width: 32px;\n",
              "    }\n",
              "\n",
              "    .colab-df-convert:hover {\n",
              "      background-color: #E2EBFA;\n",
              "      box-shadow: 0px 1px 2px rgba(60, 64, 67, 0.3), 0px 1px 3px 1px rgba(60, 64, 67, 0.15);\n",
              "      fill: #174EA6;\n",
              "    }\n",
              "\n",
              "    .colab-df-buttons div {\n",
              "      margin-bottom: 4px;\n",
              "    }\n",
              "\n",
              "    [theme=dark] .colab-df-convert {\n",
              "      background-color: #3B4455;\n",
              "      fill: #D2E3FC;\n",
              "    }\n",
              "\n",
              "    [theme=dark] .colab-df-convert:hover {\n",
              "      background-color: #434B5C;\n",
              "      box-shadow: 0px 1px 3px 1px rgba(0, 0, 0, 0.15);\n",
              "      filter: drop-shadow(0px 1px 2px rgba(0, 0, 0, 0.3));\n",
              "      fill: #FFFFFF;\n",
              "    }\n",
              "  </style>\n",
              "\n",
              "    <script>\n",
              "      const buttonEl =\n",
              "        document.querySelector('#df-ae2e9a5d-9da0-4e46-8ecb-70249aee7b89 button.colab-df-convert');\n",
              "      buttonEl.style.display =\n",
              "        google.colab.kernel.accessAllowed ? 'block' : 'none';\n",
              "\n",
              "      async function convertToInteractive(key) {\n",
              "        const element = document.querySelector('#df-ae2e9a5d-9da0-4e46-8ecb-70249aee7b89');\n",
              "        const dataTable =\n",
              "          await google.colab.kernel.invokeFunction('convertToInteractive',\n",
              "                                                    [key], {});\n",
              "        if (!dataTable) return;\n",
              "\n",
              "        const docLinkHtml = 'Like what you see? Visit the ' +\n",
              "          '<a target=\"_blank\" href=https://colab.research.google.com/notebooks/data_table.ipynb>data table notebook</a>'\n",
              "          + ' to learn more about interactive tables.';\n",
              "        element.innerHTML = '';\n",
              "        dataTable['output_type'] = 'display_data';\n",
              "        await google.colab.output.renderOutput(dataTable, element);\n",
              "        const docLink = document.createElement('div');\n",
              "        docLink.innerHTML = docLinkHtml;\n",
              "        element.appendChild(docLink);\n",
              "      }\n",
              "    </script>\n",
              "  </div>\n",
              "\n",
              "\n",
              "<div id=\"df-4fa54630-8c57-4f80-bbd5-6d201bc59a25\">\n",
              "  <button class=\"colab-df-quickchart\" onclick=\"quickchart('df-4fa54630-8c57-4f80-bbd5-6d201bc59a25')\"\n",
              "            title=\"Suggest charts\"\n",
              "            style=\"display:none;\">\n",
              "\n",
              "<svg xmlns=\"http://www.w3.org/2000/svg\" height=\"24px\"viewBox=\"0 0 24 24\"\n",
              "     width=\"24px\">\n",
              "    <g>\n",
              "        <path d=\"M19 3H5c-1.1 0-2 .9-2 2v14c0 1.1.9 2 2 2h14c1.1 0 2-.9 2-2V5c0-1.1-.9-2-2-2zM9 17H7v-7h2v7zm4 0h-2V7h2v10zm4 0h-2v-4h2v4z\"/>\n",
              "    </g>\n",
              "</svg>\n",
              "  </button>\n",
              "\n",
              "<style>\n",
              "  .colab-df-quickchart {\n",
              "      --bg-color: #E8F0FE;\n",
              "      --fill-color: #1967D2;\n",
              "      --hover-bg-color: #E2EBFA;\n",
              "      --hover-fill-color: #174EA6;\n",
              "      --disabled-fill-color: #AAA;\n",
              "      --disabled-bg-color: #DDD;\n",
              "  }\n",
              "\n",
              "  [theme=dark] .colab-df-quickchart {\n",
              "      --bg-color: #3B4455;\n",
              "      --fill-color: #D2E3FC;\n",
              "      --hover-bg-color: #434B5C;\n",
              "      --hover-fill-color: #FFFFFF;\n",
              "      --disabled-bg-color: #3B4455;\n",
              "      --disabled-fill-color: #666;\n",
              "  }\n",
              "\n",
              "  .colab-df-quickchart {\n",
              "    background-color: var(--bg-color);\n",
              "    border: none;\n",
              "    border-radius: 50%;\n",
              "    cursor: pointer;\n",
              "    display: none;\n",
              "    fill: var(--fill-color);\n",
              "    height: 32px;\n",
              "    padding: 0;\n",
              "    width: 32px;\n",
              "  }\n",
              "\n",
              "  .colab-df-quickchart:hover {\n",
              "    background-color: var(--hover-bg-color);\n",
              "    box-shadow: 0 1px 2px rgba(60, 64, 67, 0.3), 0 1px 3px 1px rgba(60, 64, 67, 0.15);\n",
              "    fill: var(--button-hover-fill-color);\n",
              "  }\n",
              "\n",
              "  .colab-df-quickchart-complete:disabled,\n",
              "  .colab-df-quickchart-complete:disabled:hover {\n",
              "    background-color: var(--disabled-bg-color);\n",
              "    fill: var(--disabled-fill-color);\n",
              "    box-shadow: none;\n",
              "  }\n",
              "\n",
              "  .colab-df-spinner {\n",
              "    border: 2px solid var(--fill-color);\n",
              "    border-color: transparent;\n",
              "    border-bottom-color: var(--fill-color);\n",
              "    animation:\n",
              "      spin 1s steps(1) infinite;\n",
              "  }\n",
              "\n",
              "  @keyframes spin {\n",
              "    0% {\n",
              "      border-color: transparent;\n",
              "      border-bottom-color: var(--fill-color);\n",
              "      border-left-color: var(--fill-color);\n",
              "    }\n",
              "    20% {\n",
              "      border-color: transparent;\n",
              "      border-left-color: var(--fill-color);\n",
              "      border-top-color: var(--fill-color);\n",
              "    }\n",
              "    30% {\n",
              "      border-color: transparent;\n",
              "      border-left-color: var(--fill-color);\n",
              "      border-top-color: var(--fill-color);\n",
              "      border-right-color: var(--fill-color);\n",
              "    }\n",
              "    40% {\n",
              "      border-color: transparent;\n",
              "      border-right-color: var(--fill-color);\n",
              "      border-top-color: var(--fill-color);\n",
              "    }\n",
              "    60% {\n",
              "      border-color: transparent;\n",
              "      border-right-color: var(--fill-color);\n",
              "    }\n",
              "    80% {\n",
              "      border-color: transparent;\n",
              "      border-right-color: var(--fill-color);\n",
              "      border-bottom-color: var(--fill-color);\n",
              "    }\n",
              "    90% {\n",
              "      border-color: transparent;\n",
              "      border-bottom-color: var(--fill-color);\n",
              "    }\n",
              "  }\n",
              "</style>\n",
              "\n",
              "  <script>\n",
              "    async function quickchart(key) {\n",
              "      const quickchartButtonEl =\n",
              "        document.querySelector('#' + key + ' button');\n",
              "      quickchartButtonEl.disabled = true;  // To prevent multiple clicks.\n",
              "      quickchartButtonEl.classList.add('colab-df-spinner');\n",
              "      try {\n",
              "        const charts = await google.colab.kernel.invokeFunction(\n",
              "            'suggestCharts', [key], {});\n",
              "      } catch (error) {\n",
              "        console.error('Error during call to suggestCharts:', error);\n",
              "      }\n",
              "      quickchartButtonEl.classList.remove('colab-df-spinner');\n",
              "      quickchartButtonEl.classList.add('colab-df-quickchart-complete');\n",
              "    }\n",
              "    (() => {\n",
              "      let quickchartButtonEl =\n",
              "        document.querySelector('#df-4fa54630-8c57-4f80-bbd5-6d201bc59a25 button');\n",
              "      quickchartButtonEl.style.display =\n",
              "        google.colab.kernel.accessAllowed ? 'block' : 'none';\n",
              "    })();\n",
              "  </script>\n",
              "</div>\n",
              "\n",
              "  <div id=\"id_1b8f7157-a8e1-424e-9e51-75555895f2c1\">\n",
              "    <style>\n",
              "      .colab-df-generate {\n",
              "        background-color: #E8F0FE;\n",
              "        border: none;\n",
              "        border-radius: 50%;\n",
              "        cursor: pointer;\n",
              "        display: none;\n",
              "        fill: #1967D2;\n",
              "        height: 32px;\n",
              "        padding: 0 0 0 0;\n",
              "        width: 32px;\n",
              "      }\n",
              "\n",
              "      .colab-df-generate:hover {\n",
              "        background-color: #E2EBFA;\n",
              "        box-shadow: 0px 1px 2px rgba(60, 64, 67, 0.3), 0px 1px 3px 1px rgba(60, 64, 67, 0.15);\n",
              "        fill: #174EA6;\n",
              "      }\n",
              "\n",
              "      [theme=dark] .colab-df-generate {\n",
              "        background-color: #3B4455;\n",
              "        fill: #D2E3FC;\n",
              "      }\n",
              "\n",
              "      [theme=dark] .colab-df-generate:hover {\n",
              "        background-color: #434B5C;\n",
              "        box-shadow: 0px 1px 3px 1px rgba(0, 0, 0, 0.15);\n",
              "        filter: drop-shadow(0px 1px 2px rgba(0, 0, 0, 0.3));\n",
              "        fill: #FFFFFF;\n",
              "      }\n",
              "    </style>\n",
              "    <button class=\"colab-df-generate\" onclick=\"generateWithVariable('filtered_df')\"\n",
              "            title=\"Generate code using this dataframe.\"\n",
              "            style=\"display:none;\">\n",
              "\n",
              "  <svg xmlns=\"http://www.w3.org/2000/svg\" height=\"24px\"viewBox=\"0 0 24 24\"\n",
              "       width=\"24px\">\n",
              "    <path d=\"M7,19H8.4L18.45,9,17,7.55,7,17.6ZM5,21V16.75L18.45,3.32a2,2,0,0,1,2.83,0l1.4,1.43a1.91,1.91,0,0,1,.58,1.4,1.91,1.91,0,0,1-.58,1.4L9.25,21ZM18.45,9,17,7.55Zm-12,3A5.31,5.31,0,0,0,4.9,8.1,5.31,5.31,0,0,0,1,6.5,5.31,5.31,0,0,0,4.9,4.9,5.31,5.31,0,0,0,6.5,1,5.31,5.31,0,0,0,8.1,4.9,5.31,5.31,0,0,0,12,6.5,5.46,5.46,0,0,0,6.5,12Z\"/>\n",
              "  </svg>\n",
              "    </button>\n",
              "    <script>\n",
              "      (() => {\n",
              "      const buttonEl =\n",
              "        document.querySelector('#id_1b8f7157-a8e1-424e-9e51-75555895f2c1 button.colab-df-generate');\n",
              "      buttonEl.style.display =\n",
              "        google.colab.kernel.accessAllowed ? 'block' : 'none';\n",
              "\n",
              "      buttonEl.onclick = () => {\n",
              "        google.colab.notebook.generateWithVariable('filtered_df');\n",
              "      }\n",
              "      })();\n",
              "    </script>\n",
              "  </div>\n",
              "\n",
              "    </div>\n",
              "  </div>\n"
            ],
            "application/vnd.google.colaboratory.intrinsic+json": {
              "type": "dataframe",
              "variable_name": "filtered_df",
              "summary": "{\n  \"name\": \"filtered_df\",\n  \"rows\": 3,\n  \"fields\": [\n    {\n      \"column\": \"col1\",\n      \"properties\": {\n        \"dtype\": \"number\",\n        \"std\": 1,\n        \"min\": 3,\n        \"max\": 5,\n        \"num_unique_values\": 3,\n        \"samples\": [\n          3,\n          4,\n          5\n        ],\n        \"semantic_type\": \"\",\n        \"description\": \"\"\n      }\n    },\n    {\n      \"column\": \"col2\",\n      \"properties\": {\n        \"dtype\": \"number\",\n        \"std\": 10,\n        \"min\": 30,\n        \"max\": 50,\n        \"num_unique_values\": 3,\n        \"samples\": [\n          30,\n          40,\n          50\n        ],\n        \"semantic_type\": \"\",\n        \"description\": \"\"\n      }\n    },\n    {\n      \"column\": \"col3\",\n      \"properties\": {\n        \"dtype\": \"number\",\n        \"std\": 100,\n        \"min\": 300,\n        \"max\": 500,\n        \"num_unique_values\": 3,\n        \"samples\": [\n          300,\n          400,\n          500\n        ],\n        \"semantic_type\": \"\",\n        \"description\": \"\"\n      }\n    }\n  ]\n}"
            }
          },
          "metadata": {},
          "execution_count": 21
        }
      ]
    },
    {
      "cell_type": "markdown",
      "source": [
        "Q10. Create a histogram using Seaborn to visualize a distribution."
      ],
      "metadata": {
        "id": "PkpJu0gVjIsW"
      }
    },
    {
      "cell_type": "code",
      "source": [
        "import numpy as np\n",
        "import pandas as pd\n",
        "import matplotlib.pyplot as plt\n",
        "import seaborn as sns\n",
        "\n",
        "data = np.random.randn(80)  # Example data: 80 random numbers from a standard normal distribution\n",
        "\n",
        "# Create the histogram\n",
        "sns.histplot(data, kde=True) # kde=True adds a kernel density estimate\n",
        "\n",
        "# Customize the plot (optional)\n",
        "plt.title(\"Distribution Histogram\")\n",
        "plt.xlabel(\"Value\")\n",
        "plt.ylabel(\"Frequency\")\n",
        "\n",
        "# Display the plot\n",
        "plt.show()\n"
      ],
      "metadata": {
        "colab": {
          "base_uri": "https://localhost:8080/",
          "height": 472
        },
        "id": "fgnL-ejyjNuL",
        "outputId": "78ef9ab0-03bc-4820-be74-d180ea7d340d"
      },
      "execution_count": 25,
      "outputs": [
        {
          "output_type": "display_data",
          "data": {
            "text/plain": [
              "<Figure size 640x480 with 1 Axes>"
            ],
            "image/png": "[encoded data removed]"
          },
          "metadata": {}
        }
      ]
    },
    {
      "cell_type": "markdown",
      "source": [
        "Q11. Perform matrix multiplication using NumPy."
      ],
      "metadata": {
        "id": "XMV2VPAGjmof"
      }
    },
    {
      "cell_type": "code",
      "source": [
        "import numpy as np\n",
        "\n",
        "# Sample matrices (replace with your actual matrices)\n",
        "matrix1 = np.array([[6, 9], [7, 5]])\n",
        "matrix2 = np.array([[4, 2], [3, 1]])\n",
        "\n",
        "# Perform matrix multiplication using the @ operator or np.dot()\n",
        "result_matrix = np.dot(matrix1, matrix2)  # Or: result_matrix = np.dot(matrix1, matrix2)\n",
        "\n",
        "# Print the result\n",
        "print(\"Result of matrix multiplication:\\n\", result_matrix)\n"
      ],
      "metadata": {
        "colab": {
          "base_uri": "https://localhost:8080/"
        },
        "id": "5xN2APh0j6bY",
        "outputId": "af2fb136-b4f5-4d87-9a65-724057f73d83"
      },
      "execution_count": 28,
      "outputs": [
        {
          "output_type": "stream",
          "name": "stdout",
          "text": [
            "Result of matrix multiplication:\n",
            " [[51 21]\n",
            " [43 19]]\n"
          ]
        }
      ]
    },
    {
      "cell_type": "markdown",
      "source": [
        "Q12. Use Pandas to load a CSV file and display its first 5 rows."
      ],
      "metadata": {
        "id": "5Vt7ujCEk12M"
      }
    },
    {
      "cell_type": "code",
      "source": [
        "import pandas as pd\n",
        "\n",
        "# Replace 'pappu.csv' with the actual filename\n",
        "file_path = 'pappu.csv'\n",
        "\n",
        "try:\n",
        "    df = pd.read_csv(file_path)\n",
        "    print(df.head())\n",
        "except FileNotFoundError:\n",
        "    print(f\"Error: File '{file_path}' not found.\")\n",
        "except pd.errors.ParserError:\n",
        "    print(f\"Error: Unable to parse the CSV file '{file_path}'. Check its format.\")\n",
        "except Exception as e:\n",
        "    print(f\"An unexpected error occurred: {e}\")\n"
      ],
      "metadata": {
        "id": "ZStpHH4U88PE"
      },
      "execution_count": null,
      "outputs": []
    },
    {
      "cell_type": "markdown",
      "source": [
        "Q13. Create a 3D scatter plot using Plotly."
      ],
      "metadata": {
        "id": "FlmiYwdNl2Yq"
      }
    },
    {
      "cell_type": "code",
      "source": [
        "import plotly.graph_objects as go\n",
        "import numpy as np\n",
        "\n",
        "# Sample data (replace with your actual data)\n",
        "x = np.random.rand(50)\n",
        "y = np.random.rand(50)\n",
        "z = np.random.rand(50)\n",
        "\n",
        "# Create the 3D scatter plot\n",
        "fig = go.Figure(data=[go.Scatter3d(x=x, y=y, z=z, mode='markers')])\n",
        "\n",
        "# Customize the plot (optional)\n",
        "fig.update_layout(title='3D Scatter Plot',\n",
        "                  scene=dict(xaxis_title='X',\n",
        "                             yaxis_title='Y',\n",
        "                             zaxis_title='Z'))\n",
        "\n",
        "# Show the plot\n",
        "fig.show()\n"
      ],
      "metadata": {
        "colab": {
          "base_uri": "https://localhost:8080/",
          "height": 542
        },
        "id": "T12-89awmmM0",
        "outputId": "5b9bc560-c2a5-4f67-c1d6-16adb754c9e8"
      },
      "execution_count": 30,
      "outputs": [
        {
          "output_type": "display_data",
          "data": {
            "text/html": [
              "<html>\n",
              "<head><meta charset=\"utf-8\" /></head>\n",
              "<body>\n",
              "    <div>            <script src=\"https://cdnjs.cloudflare.com/ajax/libs/mathjax/2.7.5/MathJax.js?config=TeX-AMS-MML_SVG\"></script><script type=\"text/javascript\">if (window.MathJax && window.MathJax.Hub && window.MathJax.Hub.Config) {window.MathJax.Hub.Config({SVG: {font: \"STIX-Web\"}});}</script>                <script type=\"text/javascript\">window.PlotlyConfig = {MathJaxConfig: 'local'};</script>\n",
              "        <script charset=\"utf-8\" src=\"https://cdn.plot.ly/plotly-2.35.2.min.js\"></script>                <div id=\"d2644561-9233-430e-b613-c775d14fedcb\" class=\"plotly-graph-div\" style=\"height:525px; width:100%;\"></div>            <script type=\"text/javascript\">                                    window.PLOTLYENV=window.PLOTLYENV || {};                                    if (document.getElementById(\"d2644561-9233-430e-b613-c775d14fedcb\")) {                    Plotly.newPlot(                        \"d2644561-9233-430e-b613-c775d14fedcb\",                        [{\"mode\":\"markers\",\"x\":[0.2033801440905304,0.30752031845530636,0.8845405500248176,0.5129100224182694,0.10094260497103302,0.6592469685402434,0.4052299965019003,0.1315015910095494,0.46483801737355157,0.050519679755521296,0.8617417217772775,0.0687228327480508,0.4365909821047681,0.7979489503890069,0.6780841658379217,0.7279828885016639,0.7132875154741134,0.5980392870139264,0.274600594389222,0.36193058721381,0.5540465017345924,0.42066686908710926,0.7315326197945268,0.4211045494366955,0.7310879346724951,0.6122082143084726,0.5922516498287952,0.36365801246340346,0.332251070134291,0.8753834613604403,0.6296372527056712,0.672539843973344,0.48737726779243307,0.7509020356276989,0.591439763771152,0.39351393977521687,0.29811416831759563,0.1407378097336065,0.5282659590736359,0.8056183760915837,0.7190401096816355,0.6411357581438117,0.063634272305926,0.1004985909258519,0.9854496481187147,0.46808953834448164,0.4693875456899189,0.5074820031704802,0.7084422341913125,0.9065716005144403],\"y\":[0.3161467089522818,0.7792102469056428,0.5296638082878317,0.4374384597691354,0.2610107080950075,0.8590958830274668,0.6274760138516098,0.41263033227324386,0.8520629549768327,0.013347297588670037,0.9871157223933007,0.20460493668425095,0.7049812694623978,0.5326706425143737,0.390915614940031,0.6935041648235812,0.6991600894057562,0.8798746774305863,0.874507194069435,0.8436033903880662,0.17039422360654233,0.1846977542633541,0.4682979607220994,0.24731086156348014,0.38310824084759343,0.30072361315688256,0.537841924375915,0.9440487047588438,0.2773524904657695,0.8897530394666763,0.06262236471131044,0.7430644146676363,0.6997171005015685,0.42265716631578265,0.576255742684843,0.5890349382767067,0.34445177180965614,0.5134742650891774,0.6405574750495647,0.953227850799305,0.33368512576276266,0.7780990167341855,0.8813584972898634,0.22168572393477048,0.8972972602096982,0.3018749924091969,0.7510295339236736,0.45994252982404127,0.9573644189990286,0.19237776868954692],\"z\":[0.8802807215959229,0.7006447024082757,0.3912321713033534,0.6797179440905038,0.7845088695328697,0.9422341569033434,0.563520332265522,0.35403711069767296,0.9474604093722285,0.3054232429021796,0.744816193133933,0.8247711832380176,0.7731955908697543,0.4131282118441394,0.48984536117584854,0.7443695979787534,0.07155659193608988,0.05648939953516596,0.06522284406105228,0.8808225380879665,0.23306360052943242,0.8345967250859916,0.43484520330918053,0.8795447833373435,0.9659667583830552,0.7645424878826843,0.7682755474905942,0.2570002384489726,0.03516255435837756,0.5163390900553734,0.016854651844086077,0.6428762188078576,0.9285303283395667,0.029234138959399858,0.5763201314123259,0.7330863967634855,0.5466520179308413,0.32593024939263837,0.7811233737678092,0.0972903927758414,0.7685904865062527,0.31865745234610543,0.6682008548262188,0.4289099349537061,0.3220819771160607,0.3596059444473453,0.943124479979435,0.6727384511045231,0.45440900131612516,0.3158815204660983],\"type\":\"scatter3d\"}],                        {\"template\":{\"data\":{\"histogram2dcontour\":[{\"type\":\"histogram2dcontour\",\"colorbar\":{\"outlinewidth\":0,\"ticks\":\"\"},\"colorscale\":[[0.0,\"#0d0887\"],[0.1111111111111111,\"#46039f\"],[0.2222222222222222,\"#7201a8\"],[0.3333333333333333,\"#9c179e\"],[0.4444444444444444,\"#bd3786\"],[0.5555555555555556,\"#d8576b\"],[0.6666666666666666,\"#ed7953\"],[0.7777777777777778,\"#fb9f3a\"],[0.8888888888888888,\"#fdca26\"],[1.0,\"#f0f921\"]]}],\"choropleth\":[{\"type\":\"choropleth\",\"colorbar\":{\"outlinewidth\":0,\"ticks\":\"\"}}],\"histogram2d\":[{\"type\":\"histogram2d\",\"colorbar\":{\"outlinewidth\":0,\"ticks\":\"\"},\"colorscale\":[[0.0,\"#0d0887\"],[0.1111111111111111,\"#46039f\"],[0.2222222222222222,\"#7201a8\"],[0.3333333333333333,\"#9c179e\"],[0.4444444444444444,\"#bd3786\"],[0.5555555555555556,\"#d8576b\"],[0.6666666666666666,\"#ed7953\"],[0.7777777777777778,\"#fb9f3a\"],[0.8888888888888888,\"#fdca26\"],[1.0,\"#f0f921\"]]}],\"heatmap\":[{\"type\":\"heatmap\",\"colorbar\":{\"outlinewidth\":0,\"ticks\":\"\"},\"colorscale\":[[0.0,\"#0d0887\"],[0.1111111111111111,\"#46039f\"],[0.2222222222222222,\"#7201a8\"],[0.3333333333333333,\"#9c179e\"],[0.4444444444444444,\"#bd3786\"],[0.5555555555555556,\"#d8576b\"],[0.6666666666666666,\"#ed7953\"],[0.7777777777777778,\"#fb9f3a\"],[0.8888888888888888,\"#fdca26\"],[1.0,\"#f0f921\"]]}],\"heatmapgl\":[{\"type\":\"heatmapgl\",\"colorbar\":{\"outlinewidth\":0,\"ticks\":\"\"},\"colorscale\":[[0.0,\"#0d0887\"],[0.1111111111111111,\"#46039f\"],[0.2222222222222222,\"#7201a8\"],[0.3333333333333333,\"#9c179e\"],[0.4444444444444444,\"#bd3786\"],[0.5555555555555556,\"#d8576b\"],[0.6666666666666666,\"#ed7953\"],[0.7777777777777778,\"#fb9f3a\"],[0.8888888888888888,\"#fdca26\"],[1.0,\"#f0f921\"]]}],\"contourcarpet\":[{\"type\":\"contourcarpet\",\"colorbar\":{\"outlinewidth\":0,\"ticks\":\"\"}}],\"contour\":[{\"type\":\"contour\",\"colorbar\":{\"outlinewidth\":0,\"ticks\":\"\"},\"colorscale\":[[0.0,\"#0d0887\"],[0.1111111111111111,\"#46039f\"],[0.2222222222222222,\"#7201a8\"],[0.3333333333333333,\"#9c179e\"],[0.4444444444444444,\"#bd3786\"],[0.5555555555555556,\"#d8576b\"],[0.6666666666666666,\"#ed7953\"],[0.7777777777777778,\"#fb9f3a\"],[0.8888888888888888,\"#fdca26\"],[1.0,\"#f0f921\"]]}],\"surface\":[{\"type\":\"surface\",\"colorbar\":{\"outlinewidth\":0,\"ticks\":\"\"},\"colorscale\":[[0.0,\"#0d0887\"],[0.1111111111111111,\"#46039f\"],[0.2222222222222222,\"#7201a8\"],[0.3333333333333333,\"#9c179e\"],[0.4444444444444444,\"#bd3786\"],[0.5555555555555556,\"#d8576b\"],[0.6666666666666666,\"#ed7953\"],[0.7777777777777778,\"#fb9f3a\"],[0.8888888888888888,\"#fdca26\"],[1.0,\"#f0f921\"]]}],\"mesh3d\":[{\"type\":\"mesh3d\",\"colorbar\":{\"outlinewidth\":0,\"ticks\":\"\"}}],\"scatter\":[{\"fillpattern\":{\"fillmode\":\"overlay\",\"size\":10,\"solidity\":0.2},\"type\":\"scatter\"}],\"parcoords\":[{\"type\":\"parcoords\",\"line\":{\"colorbar\":{\"outlinewidth\":0,\"ticks\":\"\"}}}],\"scatterpolargl\":[{\"type\":\"scatterpolargl\",\"marker\":{\"colorbar\":{\"outlinewidth\":0,\"ticks\":\"\"}}}],\"bar\":[{\"error_x\":{\"color\":\"#2a3f5f\"},\"error_y\":{\"color\":\"#2a3f5f\"},\"marker\":{\"line\":{\"color\":\"#E5ECF6\",\"width\":0.5},\"pattern\":{\"fillmode\":\"overlay\",\"size\":10,\"solidity\":0.2}},\"type\":\"bar\"}],\"scattergeo\":[{\"type\":\"scattergeo\",\"marker\":{\"colorbar\":{\"outlinewidth\":0,\"ticks\":\"\"}}}],\"scatterpolar\":[{\"type\":\"scatterpolar\",\"marker\":{\"colorbar\":{\"outlinewidth\":0,\"ticks\":\"\"}}}],\"histogram\":[{\"marker\":{\"pattern\":{\"fillmode\":\"overlay\",\"size\":10,\"solidity\":0.2}},\"type\":\"histogram\"}],\"scattergl\":[{\"type\":\"scattergl\",\"marker\":{\"colorbar\":{\"outlinewidth\":0,\"ticks\":\"\"}}}],\"scatter3d\":[{\"type\":\"scatter3d\",\"line\":{\"colorbar\":{\"outlinewidth\":0,\"ticks\":\"\"}},\"marker\":{\"colorbar\":{\"outlinewidth\":0,\"ticks\":\"\"}}}],\"scattermapbox\":[{\"type\":\"scattermapbox\",\"marker\":{\"colorbar\":{\"outlinewidth\":0,\"ticks\":\"\"}}}],\"scatterternary\":[{\"type\":\"scatterternary\",\"marker\":{\"colorbar\":{\"outlinewidth\":0,\"ticks\":\"\"}}}],\"scattercarpet\":[{\"type\":\"scattercarpet\",\"marker\":{\"colorbar\":{\"outlinewidth\":0,\"ticks\":\"\"}}}],\"carpet\":[{\"aaxis\":{\"endlinecolor\":\"#2a3f5f\",\"gridcolor\":\"white\",\"linecolor\":\"white\",\"minorgridcolor\":\"white\",\"startlinecolor\":\"#2a3f5f\"},\"baxis\":{\"endlinecolor\":\"#2a3f5f\",\"gridcolor\":\"white\",\"linecolor\":\"white\",\"minorgridcolor\":\"white\",\"startlinecolor\":\"#2a3f5f\"},\"type\":\"carpet\"}],\"table\":[{\"cells\":{\"fill\":{\"color\":\"#EBF0F8\"},\"line\":{\"color\":\"white\"}},\"header\":{\"fill\":{\"color\":\"#C8D4E3\"},\"line\":{\"color\":\"white\"}},\"type\":\"table\"}],\"barpolar\":[{\"marker\":{\"line\":{\"color\":\"#E5ECF6\",\"width\":0.5},\"pattern\":{\"fillmode\":\"overlay\",\"size\":10,\"solidity\":0.2}},\"type\":\"barpolar\"}],\"pie\":[{\"automargin\":true,\"type\":\"pie\"}]},\"layout\":{\"autotypenumbers\":\"strict\",\"colorway\":[\"#636efa\",\"#EF553B\",\"#00cc96\",\"#ab63fa\",\"#FFA15A\",\"#19d3f3\",\"#FF6692\",\"#B6E880\",\"#FF97FF\",\"#FECB52\"],\"font\":{\"color\":\"#2a3f5f\"},\"hovermode\":\"closest\",\"hoverlabel\":{\"align\":\"left\"},\"paper_bgcolor\":\"white\",\"plot_bgcolor\":\"#E5ECF6\",\"polar\":{\"bgcolor\":\"#E5ECF6\",\"angularaxis\":{\"gridcolor\":\"white\",\"linecolor\":\"white\",\"ticks\":\"\"},\"radialaxis\":{\"gridcolor\":\"white\",\"linecolor\":\"white\",\"ticks\":\"\"}},\"ternary\":{\"bgcolor\":\"#E5ECF6\",\"aaxis\":{\"gridcolor\":\"white\",\"linecolor\":\"white\",\"ticks\":\"\"},\"baxis\":{\"gridcolor\":\"white\",\"linecolor\":\"white\",\"ticks\":\"\"},\"caxis\":{\"gridcolor\":\"white\",\"linecolor\":\"white\",\"ticks\":\"\"}},\"coloraxis\":{\"colorbar\":{\"outlinewidth\":0,\"ticks\":\"\"}},\"colorscale\":{\"sequential\":[[0.0,\"#0d0887\"],[0.1111111111111111,\"#46039f\"],[0.2222222222222222,\"#7201a8\"],[0.3333333333333333,\"#9c179e\"],[0.4444444444444444,\"#bd3786\"],[0.5555555555555556,\"#d8576b\"],[0.6666666666666666,\"#ed7953\"],[0.7777777777777778,\"#fb9f3a\"],[0.8888888888888888,\"#fdca26\"],[1.0,\"#f0f921\"]],\"sequentialminus\":[[0.0,\"#0d0887\"],[0.1111111111111111,\"#46039f\"],[0.2222222222222222,\"#7201a8\"],[0.3333333333333333,\"#9c179e\"],[0.4444444444444444,\"#bd3786\"],[0.5555555555555556,\"#d8576b\"],[0.6666666666666666,\"#ed7953\"],[0.7777777777777778,\"#fb9f3a\"],[0.8888888888888888,\"#fdca26\"],[1.0,\"#f0f921\"]],\"diverging\":[[0,\"#8e0152\"],[0.1,\"#c51b7d\"],[0.2,\"#de77ae\"],[0.3,\"#f1b6da\"],[0.4,\"#fde0ef\"],[0.5,\"#f7f7f7\"],[0.6,\"#e6f5d0\"],[0.7,\"#b8e186\"],[0.8,\"#7fbc41\"],[0.9,\"#4d9221\"],[1,\"#276419\"]]},\"xaxis\":{\"gridcolor\":\"white\",\"linecolor\":\"white\",\"ticks\":\"\",\"title\":{\"standoff\":15},\"zerolinecolor\":\"white\",\"automargin\":true,\"zerolinewidth\":2},\"yaxis\":{\"gridcolor\":\"white\",\"linecolor\":\"white\",\"ticks\":\"\",\"title\":{\"standoff\":15},\"zerolinecolor\":\"white\",\"automargin\":true,\"zerolinewidth\":2},\"scene\":{\"xaxis\":{\"backgroundcolor\":\"#E5ECF6\",\"gridcolor\":\"white\",\"linecolor\":\"white\",\"showbackground\":true,\"ticks\":\"\",\"zerolinecolor\":\"white\",\"gridwidth\":2},\"yaxis\":{\"backgroundcolor\":\"#E5ECF6\",\"gridcolor\":\"white\",\"linecolor\":\"white\",\"showbackground\":true,\"ticks\":\"\",\"zerolinecolor\":\"white\",\"gridwidth\":2},\"zaxis\":{\"backgroundcolor\":\"#E5ECF6\",\"gridcolor\":\"white\",\"linecolor\":\"white\",\"showbackground\":true,\"ticks\":\"\",\"zerolinecolor\":\"white\",\"gridwidth\":2}},\"shapedefaults\":{\"line\":{\"color\":\"#2a3f5f\"}},\"annotationdefaults\":{\"arrowcolor\":\"#2a3f5f\",\"arrowhead\":0,\"arrowwidth\":1},\"geo\":{\"bgcolor\":\"white\",\"landcolor\":\"#E5ECF6\",\"subunitcolor\":\"white\",\"showland\":true,\"showlakes\":true,\"lakecolor\":\"white\"},\"title\":{\"x\":0.05},\"mapbox\":{\"style\":\"light\"}}},\"title\":{\"text\":\"3D Scatter Plot\"},\"scene\":{\"xaxis\":{\"title\":{\"text\":\"X\"}},\"yaxis\":{\"title\":{\"text\":\"Y\"}},\"zaxis\":{\"title\":{\"text\":\"Z\"}}}},                        {\"responsive\": true}                    ).then(function(){\n",
              "                            \n",
              "var gd = document.getElementById('d2644561-9233-430e-b613-c775d14fedcb');\n",
              "var x = new MutationObserver(function (mutations, observer) {{\n",
              "        var display = window.getComputedStyle(gd).display;\n",
              "        if (!display || display === 'none') {{\n",
              "            console.log([gd, 'removed!']);\n",
              "            Plotly.purge(gd);\n",
              "            observer.disconnect();\n",
              "        }}\n",
              "}});\n",
              "\n",
              "// Listen for the removal of the full notebook cells\n",
              "var notebookContainer = gd.closest('#notebook-container');\n",
              "if (notebookContainer) {{\n",
              "    x.observe(notebookContainer, {childList: true});\n",
              "}}\n",
              "\n",
              "// Listen for the clearing of the current output cell\n",
              "var outputEl = gd.closest('.output');\n",
              "if (outputEl) {{\n",
              "    x.observe(outputEl, {childList: true});\n",
              "}}\n",
              "\n",
              "                        })                };                            </script>        </div>\n",
              "</body>\n",
              "</html>"
            ]
          },
          "metadata": {}
        }
      ]
    },
    {
      "cell_type": "code",
      "source": [],
      "metadata": {
        "id": "5ScUXkvUm3T9"
      },
      "execution_count": null,
      "outputs": []
    }
  ]
}